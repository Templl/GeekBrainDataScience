{
 "cells": [
  {
   "cell_type": "markdown",
   "id": "ad628f28",
   "metadata": {},
   "source": [
    "# Тема “Обучение без учителя”"
   ]
  },
  {
   "cell_type": "markdown",
   "id": "3489fe5b",
   "metadata": {},
   "source": [
    "Импорт библиотек pandas, numpy и matplotlib."
   ]
  },
  {
   "cell_type": "code",
   "execution_count": 13,
   "id": "869a054a",
   "metadata": {},
   "outputs": [],
   "source": [
    "import numpy as np\n",
    "import pandas as pd\n",
    "import matplotlib.pyplot as plt"
   ]
  },
  {
   "cell_type": "markdown",
   "id": "fa0c89a7",
   "metadata": {},
   "source": [
    "Загрузка учебного датасета  \"Boston House Prices dataset\" из библиотеки sklearn"
   ]
  },
  {
   "cell_type": "code",
   "execution_count": 38,
   "id": "22235bf1",
   "metadata": {},
   "outputs": [],
   "source": [
    "from sklearn.model_selection import train_test_split\n",
    "from sklearn.preprocessing import StandardScaler\n",
    "from sklearn.manifold import TSNE\n",
    "from sklearn.cluster import KMeans"
   ]
  },
  {
   "cell_type": "code",
   "execution_count": 14,
   "id": "0d12a22e",
   "metadata": {},
   "outputs": [],
   "source": [
    "from sklearn.datasets import load_boston\n",
    "boston = load_boston()"
   ]
  },
  {
   "cell_type": "markdown",
   "id": "4d0be9ef",
   "metadata": {},
   "source": [
    "  \n",
    "Постройте модель TSNE на тренировочный данных с параметрами:  \n",
    "n_components=2, learning_rate=250, random_state=42.  \n",
    "Постройте диаграмму рассеяния на этих данных.  \n"
   ]
  },
  {
   "cell_type": "markdown",
   "id": "e96da168",
   "metadata": {},
   "source": [
    "Создайте датафреймы X и y из этих данных."
   ]
  },
  {
   "cell_type": "code",
   "execution_count": 19,
   "id": "825ac17f",
   "metadata": {},
   "outputs": [],
   "source": [
    "data = boston[\"data\"]\n",
    "feature_names = boston[\"feature_names\"]\n",
    "target = boston[\"target\"]"
   ]
  },
  {
   "cell_type": "code",
   "execution_count": 18,
   "id": "903fc289",
   "metadata": {},
   "outputs": [
    {
     "data": {
      "text/html": [
       "<div>\n",
       "<style scoped>\n",
       "    .dataframe tbody tr th:only-of-type {\n",
       "        vertical-align: middle;\n",
       "    }\n",
       "\n",
       "    .dataframe tbody tr th {\n",
       "        vertical-align: top;\n",
       "    }\n",
       "\n",
       "    .dataframe thead th {\n",
       "        text-align: right;\n",
       "    }\n",
       "</style>\n",
       "<table border=\"1\" class=\"dataframe\">\n",
       "  <thead>\n",
       "    <tr style=\"text-align: right;\">\n",
       "      <th></th>\n",
       "      <th>CRIM</th>\n",
       "      <th>ZN</th>\n",
       "      <th>INDUS</th>\n",
       "      <th>CHAS</th>\n",
       "      <th>NOX</th>\n",
       "      <th>RM</th>\n",
       "      <th>AGE</th>\n",
       "      <th>DIS</th>\n",
       "      <th>RAD</th>\n",
       "      <th>TAX</th>\n",
       "      <th>PTRATIO</th>\n",
       "      <th>B</th>\n",
       "      <th>LSTAT</th>\n",
       "    </tr>\n",
       "  </thead>\n",
       "  <tbody>\n",
       "    <tr>\n",
       "      <th>0</th>\n",
       "      <td>0.00632</td>\n",
       "      <td>18.0</td>\n",
       "      <td>2.31</td>\n",
       "      <td>0.0</td>\n",
       "      <td>0.538</td>\n",
       "      <td>6.575</td>\n",
       "      <td>65.2</td>\n",
       "      <td>4.0900</td>\n",
       "      <td>1.0</td>\n",
       "      <td>296.0</td>\n",
       "      <td>15.3</td>\n",
       "      <td>396.90</td>\n",
       "      <td>4.98</td>\n",
       "    </tr>\n",
       "    <tr>\n",
       "      <th>1</th>\n",
       "      <td>0.02731</td>\n",
       "      <td>0.0</td>\n",
       "      <td>7.07</td>\n",
       "      <td>0.0</td>\n",
       "      <td>0.469</td>\n",
       "      <td>6.421</td>\n",
       "      <td>78.9</td>\n",
       "      <td>4.9671</td>\n",
       "      <td>2.0</td>\n",
       "      <td>242.0</td>\n",
       "      <td>17.8</td>\n",
       "      <td>396.90</td>\n",
       "      <td>9.14</td>\n",
       "    </tr>\n",
       "    <tr>\n",
       "      <th>2</th>\n",
       "      <td>0.02729</td>\n",
       "      <td>0.0</td>\n",
       "      <td>7.07</td>\n",
       "      <td>0.0</td>\n",
       "      <td>0.469</td>\n",
       "      <td>7.185</td>\n",
       "      <td>61.1</td>\n",
       "      <td>4.9671</td>\n",
       "      <td>2.0</td>\n",
       "      <td>242.0</td>\n",
       "      <td>17.8</td>\n",
       "      <td>392.83</td>\n",
       "      <td>4.03</td>\n",
       "    </tr>\n",
       "    <tr>\n",
       "      <th>3</th>\n",
       "      <td>0.03237</td>\n",
       "      <td>0.0</td>\n",
       "      <td>2.18</td>\n",
       "      <td>0.0</td>\n",
       "      <td>0.458</td>\n",
       "      <td>6.998</td>\n",
       "      <td>45.8</td>\n",
       "      <td>6.0622</td>\n",
       "      <td>3.0</td>\n",
       "      <td>222.0</td>\n",
       "      <td>18.7</td>\n",
       "      <td>394.63</td>\n",
       "      <td>2.94</td>\n",
       "    </tr>\n",
       "    <tr>\n",
       "      <th>4</th>\n",
       "      <td>0.06905</td>\n",
       "      <td>0.0</td>\n",
       "      <td>2.18</td>\n",
       "      <td>0.0</td>\n",
       "      <td>0.458</td>\n",
       "      <td>7.147</td>\n",
       "      <td>54.2</td>\n",
       "      <td>6.0622</td>\n",
       "      <td>3.0</td>\n",
       "      <td>222.0</td>\n",
       "      <td>18.7</td>\n",
       "      <td>396.90</td>\n",
       "      <td>5.33</td>\n",
       "    </tr>\n",
       "  </tbody>\n",
       "</table>\n",
       "</div>"
      ],
      "text/plain": [
       "      CRIM    ZN  INDUS  CHAS    NOX     RM   AGE     DIS  RAD    TAX  \\\n",
       "0  0.00632  18.0   2.31   0.0  0.538  6.575  65.2  4.0900  1.0  296.0   \n",
       "1  0.02731   0.0   7.07   0.0  0.469  6.421  78.9  4.9671  2.0  242.0   \n",
       "2  0.02729   0.0   7.07   0.0  0.469  7.185  61.1  4.9671  2.0  242.0   \n",
       "3  0.03237   0.0   2.18   0.0  0.458  6.998  45.8  6.0622  3.0  222.0   \n",
       "4  0.06905   0.0   2.18   0.0  0.458  7.147  54.2  6.0622  3.0  222.0   \n",
       "\n",
       "   PTRATIO       B  LSTAT  \n",
       "0     15.3  396.90   4.98  \n",
       "1     17.8  396.90   9.14  \n",
       "2     17.8  392.83   4.03  \n",
       "3     18.7  394.63   2.94  \n",
       "4     18.7  396.90   5.33  "
      ]
     },
     "execution_count": 18,
     "metadata": {},
     "output_type": "execute_result"
    }
   ],
   "source": [
    "X = pd.DataFrame(data, columns=feature_names)\n",
    "\n",
    "X.head()"
   ]
  },
  {
   "cell_type": "code",
   "execution_count": 21,
   "id": "a9894a17",
   "metadata": {},
   "outputs": [
    {
     "name": "stdout",
     "output_type": "stream",
     "text": [
      "<class 'pandas.core.frame.DataFrame'>\n",
      "RangeIndex: 506 entries, 0 to 505\n",
      "Data columns (total 1 columns):\n",
      " #   Column  Non-Null Count  Dtype  \n",
      "---  ------  --------------  -----  \n",
      " 0   price   506 non-null    float64\n",
      "dtypes: float64(1)\n",
      "memory usage: 4.1 KB\n"
     ]
    }
   ],
   "source": [
    "y = pd.DataFrame(target, columns=[\"price\"])\n",
    "\n",
    "y.info()"
   ]
  },
  {
   "cell_type": "markdown",
   "id": "9de8a035",
   "metadata": {},
   "source": [
    "Разбейте эти датафреймы на тренировочные (X_train, y_train) и тестовые (X_test, y_test)  \n",
    "с помощью функции train_test_split так, чтобы размер тестовой выборки  \n",
    "составлял 20% от всех данных, при этом аргумент random_state должен быть равен 42."
   ]
  },
  {
   "cell_type": "code",
   "execution_count": 23,
   "id": "d8c696ab",
   "metadata": {},
   "outputs": [],
   "source": [
    "X_train, X_test, y_train, y_test = train_test_split(X, y, test_size=0.20, random_state=42)"
   ]
  },
  {
   "cell_type": "markdown",
   "id": "905d501b",
   "metadata": {},
   "source": [
    "Масштабируйте данные с помощью StandardScaler. "
   ]
  },
  {
   "cell_type": "code",
   "execution_count": 30,
   "id": "502ece9e",
   "metadata": {},
   "outputs": [],
   "source": [
    "scaler = StandardScaler(with_mean=False)\n",
    "\n",
    "#X_train_scaled = pd.DataFrame(scaler.fit_transform(X_train), columns=X_train.columns)\n",
    "X_train_scaled = pd.DataFrame(scaler.fit_transform(X_train))\n",
    "X_test_scaled = pd.DataFrame(scaler.fit_transform(X_test))\n",
    "#y_train_scaled = pd.DataFrame(scaler.fit_transform(y_train))\n",
    "#y_test_scaled = pd.DataFrame(scaler.fit_transform(y_test))"
   ]
  },
  {
   "cell_type": "markdown",
   "id": "125f61cf",
   "metadata": {},
   "source": [
    "Постройте модель TSNE на тренировочный данных с параметрами:  \n",
    "n_components=2, learning_rate=250, random_state=42.  \n",
    "Постройте диаграмму рассеяния на этих данных.  "
   ]
  },
  {
   "cell_type": "code",
   "execution_count": 32,
   "id": "f81d3278",
   "metadata": {},
   "outputs": [
    {
     "name": "stdout",
     "output_type": "stream",
     "text": [
      "До:\t(404, 13)\n",
      "После:\t(404, 2)\n"
     ]
    }
   ],
   "source": [
    "tsne = TSNE(n_components=2, learning_rate=150, random_state=100)\n",
    "\n",
    "X_train_tsne = tsne.fit_transform(X_train_scaled)\n",
    "\n",
    "print('До:\\t{}'.format(X_train_scaled.shape))\n",
    "print('После:\\t{}'.format(X_train_tsne.shape))"
   ]
  },
  {
   "cell_type": "code",
   "execution_count": 35,
   "id": "df3871f8",
   "metadata": {},
   "outputs": [
    {
     "data": {
      "image/png": "[encoded data removed]",
      "text/plain": [
       "<Figure size 432x288 with 1 Axes>"
      ]
     },
     "metadata": {
      "needs_background": "light"
     },
     "output_type": "display_data"
    }
   ],
   "source": [
    "plt.scatter(X_train_tsne[:, 0], X_train_tsne[:, 1])\n",
    "\n",
    "plt.show()"
   ]
  },
  {
   "cell_type": "markdown",
   "id": "92b6ccf4",
   "metadata": {},
   "source": [
    "**Задание 2**  \n",
    "С помощью KMeans разбейте данные из тренировочного набора на 3 кластера,\n",
    "используйте все признаки из датафрейма X_train.  \n",
    "Параметр max_iter должен быть равен 100, random_state сделайте равным 42.  \n",
    "Постройте еще раз диаграмму рассеяния на данных, полученных с помощью TSNE,\n",
    "и раскрасьте точки из разных кластеров разными цветами.  \n",
    "Вычислите средние значения price и CRIM в разных кластерах.  "
   ]
  },
  {
   "cell_type": "code",
   "execution_count": 51,
   "id": "548ad021",
   "metadata": {},
   "outputs": [],
   "source": [
    "kmeans = KMeans(n_clusters=3, random_state=42, max_iter)\n",
    "labels_train = kmeans.fit_predict(X_train_scaled)"
   ]
  },
  {
   "cell_type": "code",
   "execution_count": 61,
   "id": "3f910743",
   "metadata": {},
   "outputs": [
    {
     "data": {
      "image/png": "[encoded data removed]",
      "text/plain": [
       "<Figure size 432x288 with 1 Axes>"
      ]
     },
     "metadata": {
      "needs_background": "light"
     },
     "output_type": "display_data"
    }
   ],
   "source": [
    "plt.scatter(X_train_tsne[:, 0], X_train_tsne[:, 1], c=labels_train)\n",
    "\n",
    "plt.show()"
   ]
  },
  {
   "cell_type": "code",
   "execution_count": 62,
   "id": "23b00f3b",
   "metadata": {},
   "outputs": [
    {
     "name": "stdout",
     "output_type": "stream",
     "text": [
      "Средние значения price:\n",
      "Кластер 0: price    27.788372\n",
      "dtype: float64\n",
      "Кластер 1: price    16.165354\n",
      "dtype: float64\n",
      "Кластер 2: price    24.958115\n",
      "dtype: float64\n",
      "Средние значения CRIM:\n",
      "Кластер 0: 0.07356558139534886\n",
      "Кластер 1: 10.797028425196853\n",
      "Кластер 2: 0.42166020942408367\n"
     ]
    }
   ],
   "source": [
    "#Вычислите средние значения price и CRIM в разных кластерах. X_test\n",
    "print('Средние значения price:')\n",
    "print('Кластер 0: {}'.format(y_train[labels_train == 0].mean()))\n",
    "print('Кластер 1: {}'.format(y_train[labels_train == 1].mean()))\n",
    "print('Кластер 2: {}'.format(y_train[labels_train == 2].mean()))\n",
    "print('Средние значения CRIM:')\n",
    "print('Кластер 0: {}'.format(X_train.loc[labels_train == 0, 'CRIM'].mean()))\n",
    "print('Кластер 1: {}'.format(X_train.loc[labels_train == 1, 'CRIM'].mean()))\n",
    "print('Кластер 2: {}'.format(X_train.loc[labels_train == 2, 'CRIM'].mean()))"
   ]
  },
  {
   "cell_type": "markdown",
   "id": "f3879f0c",
   "metadata": {},
   "source": [
    "**Задание 3**  \n",
    "Примените модель KMeans, построенную в предыдущем задании,\n",
    "к данным из тестового набора.  \n",
    "Вычислите средние значения price и CRIM в разных кластерах на тестовых данных."
   ]
  },
  {
   "cell_type": "code",
   "execution_count": 59,
   "id": "219fe7f7",
   "metadata": {},
   "outputs": [],
   "source": [
    "labels_test = kmeans.predict(X_test_scaled)"
   ]
  },
  {
   "cell_type": "code",
   "execution_count": 63,
   "id": "0220e142",
   "metadata": {},
   "outputs": [
    {
     "name": "stdout",
     "output_type": "stream",
     "text": [
      "Средние значения price:\n",
      "Кластер 0: price    32.535714\n",
      "dtype: float64\n",
      "Кластер 1: price    16.710526\n",
      "dtype: float64\n",
      "Кластер 2: price    22.026\n",
      "dtype: float64\n",
      "Средние значения CRIM:\n",
      "Кластер 0: 0.05019214285714285\n",
      "Кластер 1: 9.419181842105264\n",
      "Кластер 2: 0.23449939999999997\n"
     ]
    }
   ],
   "source": [
    "print('Средние значения price:')\n",
    "print('Кластер 0: {}'.format(y_test[labels_test == 0].mean()))\n",
    "print('Кластер 1: {}'.format(y_test[labels_test == 1].mean()))\n",
    "print('Кластер 2: {}'.format(y_test[labels_test == 2].mean()))\n",
    "print('Средние значения CRIM:')\n",
    "print('Кластер 0: {}'.format(X_test.loc[labels_test == 0, 'CRIM'].mean()))\n",
    "print('Кластер 1: {}'.format(X_test.loc[labels_test == 1, 'CRIM'].mean()))\n",
    "print('Кластер 2: {}'.format(X_test.loc[labels_test == 2, 'CRIM'].mean()))"
   ]
  }
 ],
 "metadata": {
  "kernelspec": {
   "display_name": "Python 3 (ipykernel)",
   "language": "python",
   "name": "python3"
  },
  "language_info": {
   "codemirror_mode": {
    "name": "ipython",
    "version": 3
   },
   "file_extension": ".py",
   "mimetype": "text/x-python",
   "name": "python",
   "nbconvert_exporter": "python",
   "pygments_lexer": "ipython3",
   "version": "3.9.7"
  }
 },
 "nbformat": 4,
 "nbformat_minor": 5
}
