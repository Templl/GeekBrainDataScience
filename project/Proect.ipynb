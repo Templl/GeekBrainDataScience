{
 "cells": [
  {
   "cell_type": "markdown",
   "id": "1d73ff12",
   "metadata": {},
   "source": [
    "# Вебинар 6. Консультация по курсовому проекту.\n",
    "\n",
    "### Задание для курсового проекта\n",
    "\n",
    "Метрика:\n",
    "R2 - коэффициент детерминации (sklearn.metrics.r2_score)\n",
    "\n",
    "Сдача проекта:\n",
    "1. Прислать в раздел Задания Урока 10 (\"Вебинар. Консультация по итоговому проекту\")\n",
    "ссылку на программу в github (программа должна содержаться в файле Jupyter Notebook \n",
    "с расширением ipynb). (Pull request не нужен, только ссылка ведущая на сам скрипт).\n",
    "2. Приложить файл с названием по образцу SShirkin_predictions.csv\n",
    "с предсказанными ценами для квартир из test.csv (файл должен содержать два поля: Id, Price).\n",
    "В файле с предсказаниями должна быть 5001 строка (шапка + 5000 предсказаний).\n",
    "\n",
    "Сроки и условия сдачи:\n",
    "Дедлайн: сдать проект нужно в течение 72 часов после начала Урока 10 (\"Вебинар. Консультация по итоговому проекту\").\n",
    "Для успешной сдачи должны быть все предсказания (для 5000 квартир) и R2 должен быть больше 0.6.\n",
    "При сдаче до дедлайна результат проекта может попасть в топ лучших результатов.\n",
    "Повторная сдача и проверка результатов возможны только при условии предыдущей неуспешной сдачи.\n",
    "Успешный проект нельзя пересдать в целях повышения результата.\n",
    "Проекты, сданные после дедлайна или сданные повторно, не попадают в топ лучших результатов, но можно узнать результат.\n",
    "В качестве итогового результата берется первый успешный результат, последующие успешные результаты не учитываются.\n",
    "\n",
    "Примечание:\n",
    "Все файлы csv должны содержать названия полей (header - то есть \"шапку\"),\n",
    "разделитель - запятая. В файлах не должны содержаться индексы из датафрейма.\n",
    "\n",
    "Рекомендации для файла с кодом (ipynb):\n",
    "1. Файл должен содержать заголовки и комментарии\n",
    "2. Повторяющиеся операции лучше оформлять в виде функций\n",
    "3. Не делать вывод большого количества строк таблиц (5-10 достаточно)\n",
    "4. По возможности добавлять графики, описывающие данные (около 3-5)\n",
    "5. Добавлять только лучшую модель, то есть не включать в код все варианты решения проекта\n",
    "6. Скрипт проекта должен отрабатывать от начала и до конца (от загрузки данных до выгрузки предсказаний)\n",
    "7. Весь проект должен быть в одном скрипте (файл ipynb).\n",
    "8. При использовании статистик (среднее, медиана и т.д.) в качестве признаков,\n",
    "лучше считать их на трейне, и потом на валидационных и тестовых данных не считать \n",
    "статистики заново, а брать их с трейна. Если хватает знаний, можно использовать кросс-валидацию,\n",
    "но для сдачи этого проекта достаточно разбить данные из train.csv на train и valid.\n",
    "9. Проект должен полностью отрабатывать за разумное время (не больше 10 минут),\n",
    "поэтому в финальный вариант лучше не включать GridSearch с перебором \n",
    "большого количества сочетаний параметров.\n",
    "10. Допускается применение библиотек Python и моделей машинного обучения,\n",
    "которые были в курсе Python для Data Science. Градиентный бустинг изучается\n",
    "в последующих курсах, поэтому в этом проекте его применять не следует.\n",
    "Самая сложная из допустимых моделей - RandomForestRegressor из sklearn.\n",
    "\n",
    "\n",
    "https://www.kaggle.com/competitions/real-estate-price-prediction-moscow/overview\n",
    "https://www.kaggle.com/t/b4c9382d4f934176af9fe860b1976528\n",
    "Данные для курсового можно брать отсюда https://www.kaggle.com/t/b4c9382d4f934176af9fe860b1976528 (вкладка data) За шаблон оформления курсовой можно взять ноутбук, который будем разбирать на уроке 10: https://www.kaggle.com/julichitai/baseline"
   ]
  },
  {
   "cell_type": "markdown",
   "id": "584eba74",
   "metadata": {},
   "source": [
    "**ЭТАПЫ Data Science проекта:**\n",
    "1. Определить бизнес проблему\n",
    "2. Убедить бизнес, что ее можно и нужно решать с помощью ML\n",
    "3. Перевести бизнес проблему в ML-задачу\n",
    "4. Выбрать подходящие ML и бизнес метрики\n",
    "---------------------------------------------------------------------------\n",
    "5. Загрузка данных\n",
    "6. EDA: визуализация данных (вебинар 3)\n",
    "https://www.youtube.com/watch?v=3Ri0l9hhlmM\n",
    "\n",
    "7. Очистка данных и feature engineering (вебинар 2)\n",
    "8. **_Разбиение данных на train и test_**\n",
    "9. **_Построение ML моделей_**\n",
    "10. **_Оценка качества ML моделей и выбор наилучшей_**\n",
    "\n",
    "---------------------------------------------------------------------------\n",
    "11. Доказать бизнес-заказчику, что модель хорошо работает\n",
    "12. Внедрение модели в production https://www.youtube.com/watch?v=NfPf0Y770DA\n",
    "13. Улучшение модели\n",
    "14. Поддержка модели\n",
    "15. Мониторинг"
   ]
  },
  {
   "cell_type": "code",
   "execution_count": 2,
   "id": "8fe023a0",
   "metadata": {},
   "outputs": [],
   "source": [
    "import numpy as np\n",
    "import pandas as pd\n",
    "import os\n",
    "\n",
    "import matplotlib.pyplot as plt\n",
    "import seaborn as sns"
   ]
  },
  {
   "cell_type": "code",
   "execution_count": 140,
   "id": "a67840dd",
   "metadata": {},
   "outputs": [],
   "source": [
    "from sklearn.ensemble import RandomForestRegressor\n",
    "from sklearn.model_selection import train_test_split, cross_val_score\n",
    "from sklearn.linear_model import LogisticRegression\n",
    "from sklearn.model_selection import train_test_split\n",
    "\n",
    "from sklearn.metrics import r2_score as r2"
   ]
  },
  {
   "cell_type": "code",
   "execution_count": 4,
   "id": "3e2eb7f1",
   "metadata": {},
   "outputs": [],
   "source": [
    "def evaluate_preds(train_true_values, train_pred_values, test_true_values, test_pred_values):\n",
    "    print(\"Train R2:\\t\" + str(round(r2(train_true_values, train_pred_values), 3)))\n",
    "    print(\"Test R2:\\t\" + str(round(r2(test_true_values, test_pred_values), 3)))\n",
    "    \n",
    "    plt.figure(figsize=(18,10))\n",
    "    \n",
    "    plt.subplot(121)\n",
    "    sns.scatterplot(x=train_pred_values, y=train_true_values)\n",
    "    plt.xlabel('Predicted values')\n",
    "    plt.ylabel('True values')\n",
    "    plt.title('Train sample prediction')\n",
    "    \n",
    "    plt.subplot(122)\n",
    "    sns.scatterplot(x=test_pred_values, y=test_true_values)\n",
    "    plt.xlabel('Predicted values')\n",
    "    plt.ylabel('True values')\n",
    "    plt.title('Test sample prediction')\n",
    "\n",
    "    plt.show()"
   ]
  },
  {
   "cell_type": "markdown",
   "id": "aaac2a2b",
   "metadata": {},
   "source": [
    "**Пути к директориям и файлам**"
   ]
  },
  {
   "cell_type": "code",
   "execution_count": null,
   "id": "a7700589",
   "metadata": {},
   "outputs": [],
   "source": [
    "TRAIN_DATASET = 'train.csv'\n",
    "TEST_DATASET = 'test.csv'"
   ]
  },
  {
   "cell_type": "code",
   "execution_count": null,
   "id": "67ca0b05",
   "metadata": {},
   "outputs": [],
   "source": [
    "os.getcwd()"
   ]
  },
  {
   "cell_type": "code",
   "execution_count": null,
   "id": "d19591fa",
   "metadata": {},
   "outputs": [],
   "source": [
    "os.chdir('C:\\\\Users\\\\mkt4\\\\YandexDisk\\\\Курсы\\\\GeekBrains\\\\ВыпускнойПроект')"
   ]
  },
  {
   "cell_type": "code",
   "execution_count": null,
   "id": "0b08c500",
   "metadata": {},
   "outputs": [],
   "source": [
    "!ls"
   ]
  },
  {
   "cell_type": "markdown",
   "id": "ee1b4282",
   "metadata": {},
   "source": [
    "### Загрузка данных"
   ]
  },
  {
   "cell_type": "markdown",
   "id": "ab3f9ad7",
   "metadata": {},
   "source": [
    "**Описание датасета**\n",
    "\n",
    "- `Id` - идентификационный номер квартиры\n",
    "- `DistrictId` - идентификационный номер района\n",
    "- `Rooms` - количество комнат\n",
    "- `Square` - площадь\n",
    "- `LifeSquare` - жилая площадь\n",
    "- `KitchenSquare` - площадь кухни\n",
    "- `Floor` - этаж\n",
    "- `HouseFloor` - количество этажей в доме\n",
    "- `HouseYear` - год постройки дома\n",
    "- `Ecology_1, Ecology_2, Ecology_3` - экологические показатели местности\n",
    "- `Social_1, Social_2, Social_3` - социальные показатели местности\n",
    "- `Healthcare_1, Helthcare_2` - показатели местности, связанные с охраной здоровья\n",
    "- `Shops_1, Shops_2` - показатели, связанные с наличием магазинов, торговых центров\n",
    "- `Price` - цена квартиры"
   ]
  },
  {
   "cell_type": "code",
   "execution_count": null,
   "id": "d7663d98",
   "metadata": {},
   "outputs": [],
   "source": [
    "train_df = pd.read_csv('train.csv')\n",
    "train_df.head()"
   ]
  },
  {
   "cell_type": "code",
   "execution_count": null,
   "id": "978f6bcb",
   "metadata": {},
   "outputs": [],
   "source": [
    "df.info()"
   ]
  },
  {
   "cell_type": "code",
   "execution_count": null,
   "id": "ab56dfcb",
   "metadata": {},
   "outputs": [],
   "source": [
    "df.isnull().sum()"
   ]
  },
  {
   "cell_type": "markdown",
   "id": "3b83c50e",
   "metadata": {},
   "source": [
    "Есть пропуски"
   ]
  },
  {
   "cell_type": "code",
   "execution_count": null,
   "id": "1ee24320",
   "metadata": {},
   "outputs": [],
   "source": [
    "train_df.describe()"
   ]
  },
  {
   "cell_type": "code",
   "execution_count": null,
   "id": "87fe15b9",
   "metadata": {},
   "outputs": [],
   "source": [
    "test_df = pd.read_csv('test.csv')"
   ]
  },
  {
   "cell_type": "markdown",
   "id": "78f8580c",
   "metadata": {},
   "source": [
    "удаляем переменные"
   ]
  },
  {
   "cell_type": "code",
   "execution_count": null,
   "id": "73cc60c2",
   "metadata": {},
   "outputs": [],
   "source": [
    "train_df.drop(['Shops_2','Ecology_2','Ecology_3'], axis=1, inplace=True)\n",
    "test_df.drop(['Shops_2','Ecology_2','Ecology_3'], axis=1, inplace=True)"
   ]
  },
  {
   "cell_type": "code",
   "execution_count": null,
   "id": "f002dc86",
   "metadata": {},
   "outputs": [],
   "source": [
    "train_df.describe()"
   ]
  },
  {
   "cell_type": "markdown",
   "id": "86a7efb2",
   "metadata": {},
   "source": [
    "## Предобработка данных"
   ]
  },
  {
   "cell_type": "markdown",
   "id": "4b57b986",
   "metadata": {},
   "source": [
    "Заполнение пропусков с помощью машинного обучения"
   ]
  },
  {
   "cell_type": "code",
   "execution_count": null,
   "id": "8f3aeffb",
   "metadata": {},
   "outputs": [],
   "source": [
    "train_df['Id'] = train_df['Id'].astype(str)\n",
    "train_df['DistrictId'] = train_df['DistrictId'].astype(str)\n",
    "test_df['Id'] = test_df['Id'].astype(str)\n",
    "test_df['DistrictId'] = test_df['DistrictId'].astype(str)"
   ]
  },
  {
   "cell_type": "code",
   "execution_count": null,
   "id": "83804550",
   "metadata": {},
   "outputs": [],
   "source": [
    "train_df.info()"
   ]
  },
  {
   "cell_type": "markdown",
   "id": "dffae34a",
   "metadata": {},
   "source": [
    "**добавляем индекс чтобы потом по индексу вернуть удаленную фичу обратно**"
   ]
  },
  {
   "cell_type": "code",
   "execution_count": null,
   "id": "a0a3cc85",
   "metadata": {},
   "outputs": [],
   "source": [
    "train_df['0'] = [x for x in range(len(train_df))]\n",
    "train_df.head()"
   ]
  },
  {
   "cell_type": "markdown",
   "id": "8eadffed",
   "metadata": {},
   "source": [
    "выделяем в отдельный фрейм LifeSquare с дополнительным индексом"
   ]
  },
  {
   "cell_type": "code",
   "execution_count": null,
   "id": "859eb767",
   "metadata": {},
   "outputs": [],
   "source": [
    "df_drop = train_df[['LifeSquare', '0']]\n",
    "df_drop.head()"
   ]
  },
  {
   "cell_type": "code",
   "execution_count": null,
   "id": "8afdaf20",
   "metadata": {},
   "outputs": [],
   "source": [
    "w = [x for x in train_df['LifeSquare']]"
   ]
  },
  {
   "cell_type": "code",
   "execution_count": null,
   "id": "4ae3d3a8",
   "metadata": {},
   "outputs": [],
   "source": [
    "target_name = 'Healthcare_1'\n",
    "train_df.drop(['LifeSquare'], axis=1, inplace=True)"
   ]
  },
  {
   "cell_type": "code",
   "execution_count": null,
   "id": "08c63a79",
   "metadata": {},
   "outputs": [],
   "source": [
    "train_df.describe()"
   ]
  },
  {
   "cell_type": "markdown",
   "id": "08e46937",
   "metadata": {},
   "source": []
  },
  {
   "cell_type": "code",
   "execution_count": null,
   "id": "d75dd71a",
   "metadata": {},
   "outputs": [],
   "source": [
    "train_df['nan'] = 0\n",
    "train_df.loc[train_df[target_name].isna(), 'nan'] = 1"
   ]
  },
  {
   "cell_type": "code",
   "execution_count": null,
   "id": "92efcdd1",
   "metadata": {},
   "outputs": [],
   "source": [
    "train_df.head()"
   ]
  },
  {
   "cell_type": "markdown",
   "id": "32cb60bf",
   "metadata": {},
   "source": [
    "**Разделяем на выборку тестовую и тренировочную**\n",
    "добавляем колонку с признаком нанов"
   ]
  },
  {
   "cell_type": "code",
   "execution_count": null,
   "id": "2b34aca3",
   "metadata": {},
   "outputs": [],
   "source": [
    "df_test = train_df[train_df['nan'] == 1]\n",
    "df_train = train_df[train_df['nan'] == 0]"
   ]
  },
  {
   "cell_type": "code",
   "execution_count": null,
   "id": "ee41d53b",
   "metadata": {},
   "outputs": [],
   "source": [
    "df_train.head(3)"
   ]
  },
  {
   "cell_type": "code",
   "execution_count": null,
   "id": "cfa954ca",
   "metadata": {},
   "outputs": [],
   "source": [
    "df_test.head(3)"
   ]
  },
  {
   "cell_type": "code",
   "execution_count": null,
   "id": "8709ae45",
   "metadata": {},
   "outputs": [],
   "source": [
    "print('Подготовим датафрейм для предсказания целевой переменной', target_name)"
   ]
  },
  {
   "cell_type": "code",
   "execution_count": null,
   "id": "029e53c6",
   "metadata": {},
   "outputs": [],
   "source": [
    "target_name = 'Healthcare_1'\n",
    "df_train[target_name] = df_train[target_name].apply(int)\n",
    "df_train = df_train.drop(columns='nan')"
   ]
  },
  {
   "cell_type": "markdown",
   "id": "2a78313f",
   "metadata": {},
   "source": [
    "Выделяем по колонке два стандартных датафрейма - признаки и целевой переменной"
   ]
  },
  {
   "cell_type": "code",
   "execution_count": null,
   "id": "b7008ddb",
   "metadata": {},
   "outputs": [],
   "source": [
    "#cols = [features]\n",
    "#X = df_train[cols]\n",
    "\n",
    "X = df_train.drop(columns=[target_name, '0'])\n",
    "y = df_train[target_name]"
   ]
  },
  {
   "cell_type": "code",
   "execution_count": null,
   "id": "06ea1278",
   "metadata": {
    "scrolled": false
   },
   "outputs": [],
   "source": [
    "X_train, X_valid, y_train, y_valid = train_test_split(X, y, test_size=0.25, shuffle=True, random_state=21)\n",
    "\n",
    "rf_model = RandomForestRegressor(random_state=21, criterion='mse')\n",
    "rf_model.fit(X_train, y_train)\n",
    "\n",
    "y_train_preds = rf_model.predict(X_train)\n",
    "y_test_preds = rf_model.predict(X_valid)\n",
    "\n",
    "evaluate_preds(y_train, y_train_preds, y_valid, y_test_preds)"
   ]
  },
  {
   "attachments": {
    "image.png": {
     "image/png": "[encoded data removed]"
    }
   },
   "cell_type": "markdown",
   "id": "c7138d26",
   "metadata": {},
   "source": [
    "![image.png](attachment:image.png)"
   ]
  },
  {
   "cell_type": "code",
   "execution_count": null,
   "id": "918ea634",
   "metadata": {},
   "outputs": [],
   "source": [
    "df_test.head()"
   ]
  },
  {
   "cell_type": "code",
   "execution_count": null,
   "id": "5847ed34",
   "metadata": {},
   "outputs": [],
   "source": [
    "# выделяем в отдельную переменную служебный индекс \"0\"\n",
    "v = [x for x in df_test['0']]\n",
    "# выкидываем из фрейма колонки с целевой перменной и служебный индекс\n",
    "df_test = df_test.drop(columns=[target_name, '0'])\n",
    "# удалеяем колонку с признаком нанов\n",
    "df_test = df_test.drop(columns='nan')"
   ]
  },
  {
   "cell_type": "code",
   "execution_count": null,
   "id": "4214eea9",
   "metadata": {},
   "outputs": [],
   "source": [
    "df_test[target_name] = rf_model.predict(df_test)"
   ]
  },
  {
   "cell_type": "code",
   "execution_count": null,
   "id": "0d57d729",
   "metadata": {},
   "outputs": [],
   "source": [
    "df_test.head()"
   ]
  },
  {
   "cell_type": "code",
   "execution_count": null,
   "id": "9f60da8c",
   "metadata": {},
   "outputs": [],
   "source": [
    "df_test[target_name] = df_test[target_name].apply(int)"
   ]
  },
  {
   "cell_type": "code",
   "execution_count": null,
   "id": "786b7d2f",
   "metadata": {
    "scrolled": true
   },
   "outputs": [],
   "source": [
    "df_test.head()"
   ]
  },
  {
   "cell_type": "markdown",
   "id": "a34963fd",
   "metadata": {},
   "source": [
    "Возвращаем служебный индекс "
   ]
  },
  {
   "cell_type": "code",
   "execution_count": null,
   "id": "f6b01c58",
   "metadata": {},
   "outputs": [],
   "source": [
    "df_test['0'] = v"
   ]
  },
  {
   "cell_type": "code",
   "execution_count": null,
   "id": "6c233123",
   "metadata": {
    "scrolled": true
   },
   "outputs": [],
   "source": [
    "df_test.head()"
   ]
  },
  {
   "cell_type": "markdown",
   "id": "66167341",
   "metadata": {},
   "source": [
    "Объединяем тренировочную выборку и тестовую"
   ]
  },
  {
   "cell_type": "code",
   "execution_count": null,
   "id": "b6d0a476",
   "metadata": {},
   "outputs": [],
   "source": [
    "train_df2 = pd.concat([df_train, df_test]) \n",
    "print(len(train_df2))"
   ]
  },
  {
   "cell_type": "code",
   "execution_count": null,
   "id": "f985b494",
   "metadata": {},
   "outputs": [],
   "source": [
    "train_df2.head()"
   ]
  },
  {
   "cell_type": "code",
   "execution_count": null,
   "id": "7c0d889e",
   "metadata": {},
   "outputs": [],
   "source": [
    "train_df2 = train_df2.sort_values(by=['0'])"
   ]
  },
  {
   "cell_type": "code",
   "execution_count": null,
   "id": "285ee700",
   "metadata": {},
   "outputs": [],
   "source": [
    "train_df2.head(10)"
   ]
  },
  {
   "cell_type": "markdown",
   "id": "d67003bf",
   "metadata": {},
   "source": [
    "Возвращаем переменную LifeSquare в общий датафрейм"
   ]
  },
  {
   "cell_type": "code",
   "execution_count": null,
   "id": "17177952",
   "metadata": {},
   "outputs": [],
   "source": [
    "train_df2 = train_df2.merge(df_drop, left_on='0', right_on='0', how='left')"
   ]
  },
  {
   "cell_type": "code",
   "execution_count": null,
   "id": "6f14545a",
   "metadata": {},
   "outputs": [],
   "source": [
    "train_df2.head()"
   ]
  },
  {
   "cell_type": "code",
   "execution_count": null,
   "id": "bbec5736",
   "metadata": {},
   "outputs": [],
   "source": [
    "train_df2.drop(['0'], axis=1, inplace=True)"
   ]
  },
  {
   "cell_type": "markdown",
   "id": "7da47559",
   "metadata": {},
   "source": [
    "## predict LifeSquare предсказание (заполнение пропусков) LifeSquare"
   ]
  },
  {
   "cell_type": "code",
   "execution_count": null,
   "id": "f26ab087",
   "metadata": {},
   "outputs": [],
   "source": [
    "tmp_df = train_df2.copy()"
   ]
  },
  {
   "cell_type": "code",
   "execution_count": null,
   "id": "f6ffee09",
   "metadata": {},
   "outputs": [],
   "source": [
    "tmp_df.head()"
   ]
  },
  {
   "cell_type": "code",
   "execution_count": null,
   "id": "ee3819ea",
   "metadata": {},
   "outputs": [],
   "source": [
    "tmp_df['ind'] = [x for x in range(len(tmp_df))]"
   ]
  },
  {
   "cell_type": "code",
   "execution_count": null,
   "id": "87c44634",
   "metadata": {},
   "outputs": [],
   "source": [
    "tmp_df.columns.tolist()"
   ]
  },
  {
   "cell_type": "code",
   "execution_count": null,
   "id": "6e138a36",
   "metadata": {},
   "outputs": [],
   "source": [
    "tmp_target_name = 'LifeSquare'\n",
    "tmp_feature_name = [#'Id',\n",
    " #'DistrictId',\n",
    " 'Rooms',\n",
    " 'Square',\n",
    " #'LifeSquare',\n",
    " 'KitchenSquare',\n",
    " 'Floor',\n",
    " 'HouseFloor',\n",
    " 'HouseYear',\n",
    " 'Ecology_1',\n",
    " #'Ecology_2',\n",
    " #'Ecology_3',\n",
    " 'Social_1',\n",
    " 'Social_2',\n",
    " 'Social_3',\n",
    " #'Healthcare_1',\n",
    " 'Helthcare_2',\n",
    " 'Shops_1',\n",
    " #'Shops_2',\n",
    " 'Price',\n",
    " #'ind'\n",
    "]"
   ]
  },
  {
   "cell_type": "code",
   "execution_count": null,
   "id": "d81c9ec9",
   "metadata": {},
   "outputs": [],
   "source": [
    "tmp_df.head()"
   ]
  },
  {
   "cell_type": "markdown",
   "id": "28269042",
   "metadata": {},
   "source": [
    "Разделеяем пропуски по целевой переменной в разных фреймы"
   ]
  },
  {
   "cell_type": "code",
   "execution_count": null,
   "id": "6d65b9c9",
   "metadata": {},
   "outputs": [],
   "source": [
    "tmp_df_test = tmp_df[tmp_df[tmp_target_name].isna() == True]\n",
    "tmp_df_train = tmp_df[tmp_df[tmp_target_name].isna() == False]"
   ]
  },
  {
   "cell_type": "code",
   "execution_count": null,
   "id": "d75a848b",
   "metadata": {},
   "outputs": [],
   "source": [
    "X_tmp_train = tmp_df_train[tmp_feature_name]\n",
    "y_tmp_train = tmp_df_train[tmp_target_name]"
   ]
  },
  {
   "cell_type": "code",
   "execution_count": null,
   "id": "aabf0d4c",
   "metadata": {},
   "outputs": [],
   "source": [
    "X_tmp_train.head()"
   ]
  },
  {
   "cell_type": "code",
   "execution_count": null,
   "id": "17c5b458",
   "metadata": {},
   "outputs": [],
   "source": [
    "rf_model_tmp = RandomForestRegressor(random_state=8)\n",
    "rf_model_tmp.fit(X_tmp_train, y_tmp_train)"
   ]
  },
  {
   "cell_type": "code",
   "execution_count": null,
   "id": "fcfb2902",
   "metadata": {},
   "outputs": [],
   "source": [
    "X_tmp_test = tmp_df_test[tmp_feature_name]\n",
    "X_tmp_test.head()"
   ]
  },
  {
   "cell_type": "code",
   "execution_count": null,
   "id": "08b7ed44",
   "metadata": {},
   "outputs": [],
   "source": [
    "tmp_df_test[tmp_target_name] = rf_model_tmp.predict(X_tmp_test)"
   ]
  },
  {
   "cell_type": "code",
   "execution_count": null,
   "id": "b76b5e41",
   "metadata": {},
   "outputs": [],
   "source": [
    "tmp_df_test.head()"
   ]
  },
  {
   "cell_type": "code",
   "execution_count": null,
   "id": "16dd6ac9",
   "metadata": {},
   "outputs": [],
   "source": [
    "df2 = pd.concat([tmp_df_train, tmp_df_test])\n",
    "df2 = df2.sort_values(by=['ind'])"
   ]
  },
  {
   "cell_type": "code",
   "execution_count": null,
   "id": "c4cab960",
   "metadata": {},
   "outputs": [],
   "source": [
    "train_df[tmp_target_name + '_num'] = df2[tmp_target_name]"
   ]
  },
  {
   "cell_type": "code",
   "execution_count": null,
   "id": "ce2c7f33",
   "metadata": {},
   "outputs": [],
   "source": []
  },
  {
   "cell_type": "code",
   "execution_count": 92,
   "id": "280501a2",
   "metadata": {},
   "outputs": [],
   "source": [
    "train_df = pd.read_csv('train.csv')"
   ]
  },
  {
   "cell_type": "code",
   "execution_count": 93,
   "id": "86612c54",
   "metadata": {},
   "outputs": [
    {
     "data": {
      "text/html": [
       "<div>\n",
       "<style scoped>\n",
       "    .dataframe tbody tr th:only-of-type {\n",
       "        vertical-align: middle;\n",
       "    }\n",
       "\n",
       "    .dataframe tbody tr th {\n",
       "        vertical-align: top;\n",
       "    }\n",
       "\n",
       "    .dataframe thead th {\n",
       "        text-align: right;\n",
       "    }\n",
       "</style>\n",
       "<table border=\"1\" class=\"dataframe\">\n",
       "  <thead>\n",
       "    <tr style=\"text-align: right;\">\n",
       "      <th></th>\n",
       "      <th>Id</th>\n",
       "      <th>DistrictId</th>\n",
       "      <th>Rooms</th>\n",
       "      <th>Square</th>\n",
       "      <th>LifeSquare</th>\n",
       "      <th>KitchenSquare</th>\n",
       "      <th>Floor</th>\n",
       "      <th>HouseFloor</th>\n",
       "      <th>HouseYear</th>\n",
       "      <th>Ecology_1</th>\n",
       "      <th>Ecology_2</th>\n",
       "      <th>Ecology_3</th>\n",
       "      <th>Social_1</th>\n",
       "      <th>Social_2</th>\n",
       "      <th>Social_3</th>\n",
       "      <th>Healthcare_1</th>\n",
       "      <th>Helthcare_2</th>\n",
       "      <th>Shops_1</th>\n",
       "      <th>Shops_2</th>\n",
       "      <th>Price</th>\n",
       "    </tr>\n",
       "  </thead>\n",
       "  <tbody>\n",
       "    <tr>\n",
       "      <th>0</th>\n",
       "      <td>11809</td>\n",
       "      <td>27</td>\n",
       "      <td>3.0</td>\n",
       "      <td>115.027311</td>\n",
       "      <td>NaN</td>\n",
       "      <td>10.0</td>\n",
       "      <td>4</td>\n",
       "      <td>10.0</td>\n",
       "      <td>2014</td>\n",
       "      <td>0.075424</td>\n",
       "      <td>B</td>\n",
       "      <td>B</td>\n",
       "      <td>11</td>\n",
       "      <td>3097</td>\n",
       "      <td>0</td>\n",
       "      <td>NaN</td>\n",
       "      <td>0</td>\n",
       "      <td>0</td>\n",
       "      <td>B</td>\n",
       "      <td>305018.871089</td>\n",
       "    </tr>\n",
       "  </tbody>\n",
       "</table>\n",
       "</div>"
      ],
      "text/plain": [
       "      Id  DistrictId  Rooms      Square  LifeSquare  KitchenSquare  Floor  \\\n",
       "0  11809          27    3.0  115.027311         NaN           10.0      4   \n",
       "\n",
       "   HouseFloor  HouseYear  Ecology_1 Ecology_2 Ecology_3  Social_1  Social_2  \\\n",
       "0        10.0       2014   0.075424         B         B        11      3097   \n",
       "\n",
       "   Social_3  Healthcare_1  Helthcare_2  Shops_1 Shops_2          Price  \n",
       "0         0           NaN            0        0       B  305018.871089  "
      ]
     },
     "execution_count": 93,
     "metadata": {},
     "output_type": "execute_result"
    }
   ],
   "source": [
    "train_df.head(1)"
   ]
  },
  {
   "cell_type": "code",
   "execution_count": 94,
   "id": "13bd735a",
   "metadata": {},
   "outputs": [
    {
     "name": "stdout",
     "output_type": "stream",
     "text": [
      "<class 'pandas.core.frame.DataFrame'>\n",
      "RangeIndex: 10000 entries, 0 to 9999\n",
      "Data columns (total 20 columns):\n",
      " #   Column         Non-Null Count  Dtype  \n",
      "---  ------         --------------  -----  \n",
      " 0   Id             10000 non-null  int64  \n",
      " 1   DistrictId     10000 non-null  int64  \n",
      " 2   Rooms          10000 non-null  float64\n",
      " 3   Square         10000 non-null  float64\n",
      " 4   LifeSquare     7887 non-null   float64\n",
      " 5   KitchenSquare  10000 non-null  float64\n",
      " 6   Floor          10000 non-null  int64  \n",
      " 7   HouseFloor     10000 non-null  float64\n",
      " 8   HouseYear      10000 non-null  int64  \n",
      " 9   Ecology_1      10000 non-null  float64\n",
      " 10  Ecology_2      10000 non-null  object \n",
      " 11  Ecology_3      10000 non-null  object \n",
      " 12  Social_1       10000 non-null  int64  \n",
      " 13  Social_2       10000 non-null  int64  \n",
      " 14  Social_3       10000 non-null  int64  \n",
      " 15  Healthcare_1   5202 non-null   float64\n",
      " 16  Helthcare_2    10000 non-null  int64  \n",
      " 17  Shops_1        10000 non-null  int64  \n",
      " 18  Shops_2        10000 non-null  object \n",
      " 19  Price          10000 non-null  float64\n",
      "dtypes: float64(8), int64(9), object(3)\n",
      "memory usage: 1.5+ MB\n"
     ]
    }
   ],
   "source": [
    "train_df.info()"
   ]
  },
  {
   "cell_type": "code",
   "execution_count": 95,
   "id": "435df2f0",
   "metadata": {},
   "outputs": [
    {
     "data": {
      "text/plain": [
       "['Id',\n",
       " 'DistrictId',\n",
       " 'Rooms',\n",
       " 'Square',\n",
       " 'LifeSquare',\n",
       " 'KitchenSquare',\n",
       " 'Floor',\n",
       " 'HouseFloor',\n",
       " 'HouseYear',\n",
       " 'Ecology_1',\n",
       " 'Ecology_2',\n",
       " 'Ecology_3',\n",
       " 'Social_1',\n",
       " 'Social_2',\n",
       " 'Social_3',\n",
       " 'Healthcare_1',\n",
       " 'Helthcare_2',\n",
       " 'Shops_1',\n",
       " 'Shops_2',\n",
       " 'Price']"
      ]
     },
     "execution_count": 95,
     "metadata": {},
     "output_type": "execute_result"
    }
   ],
   "source": [
    "train_df.columns.tolist()"
   ]
  },
  {
   "cell_type": "code",
   "execution_count": 96,
   "id": "5391ff5f",
   "metadata": {},
   "outputs": [],
   "source": [
    "train_df.drop(['Shops_2','Ecology_2','Ecology_3'], axis=1, inplace=True)"
   ]
  },
  {
   "cell_type": "code",
   "execution_count": 97,
   "id": "2d7d0883",
   "metadata": {},
   "outputs": [],
   "source": [
    "train_df['0'] = [x for x in range(len(train_df))]\n",
    "\n",
    "train_df['Id'] = train_df['Id'].astype(str)\n",
    "train_df['DistrictId'] = train_df['DistrictId'].astype(str)"
   ]
  },
  {
   "cell_type": "markdown",
   "id": "fa9b6ac1",
   "metadata": {},
   "source": [
    "# Второй вариант"
   ]
  },
  {
   "cell_type": "code",
   "execution_count": 98,
   "id": "ebd703d7",
   "metadata": {},
   "outputs": [],
   "source": [
    "target_name_h = 'Healthcare_1'\n",
    "target_name_ls = 'LifeSquare'"
   ]
  },
  {
   "cell_type": "code",
   "execution_count": 99,
   "id": "c5f22e43",
   "metadata": {},
   "outputs": [],
   "source": [
    "def filling_atribute(target_name1, target_name2, model, train2):\n",
    "    #train2 = train_df.copy()\n",
    "    \n",
    "    #tmp_test = train2[train2['nan'] == 1]\n",
    "    tmp_train = train2[train2['nan'] == 0]\n",
    "\n",
    "    tmp_train[target_name1] = tmp_train[target_name1].apply(int)\n",
    "    tmp_train = tmp_train.drop(columns='nan')\n",
    "\n",
    "    X = tmp_train.drop(columns=[target_name1, '0'])\n",
    "    y = tmp_train[target_name1]\n",
    "\n",
    "    # проверка обучение модели\n",
    "    X_train, X_valid, y_train, y_valid = train_test_split(X, y, test_size=0.25, shuffle=True, random_state=21)\n",
    "\n",
    "    #rf_model = RandomForestRegressor(random_state=21, criterion='mse')\n",
    "    rf_model.fit(X_train, y_train)\n",
    "\n",
    "    y_train_preds = rf_model.predict(X_train)\n",
    "    y_test_preds = rf_model.predict(X_valid)\n",
    "\n",
    "    evaluate_preds(y_train, y_train_preds, y_valid, y_test_preds)\n",
    "    \n",
    "    return tmp_train"
   ]
  },
  {
   "cell_type": "code",
   "execution_count": 100,
   "id": "faa35a98",
   "metadata": {},
   "outputs": [],
   "source": [
    "rf_model = RandomForestRegressor(random_state=21, criterion='mse')"
   ]
  },
  {
   "cell_type": "code",
   "execution_count": null,
   "id": "cd0b1e3d",
   "metadata": {},
   "outputs": [],
   "source": []
  },
  {
   "cell_type": "code",
   "execution_count": 101,
   "id": "c7aa8f64",
   "metadata": {},
   "outputs": [],
   "source": [
    "train2 = train_df.copy()\n",
    "df_drop = train2[[target_name_ls, '0']]\n",
    "train2.drop([target_name_ls], axis=1, inplace=True)\n",
    "\n",
    "train2['nan'] = 0\n",
    "train2.loc[train_df[target_name_h].isna(), 'nan'] = 1\n",
    "\n",
    "df_test = train2[train2['nan'] == 1]\n",
    "df_train = train2[train2['nan'] == 0]"
   ]
  },
  {
   "cell_type": "code",
   "execution_count": 102,
   "id": "be2889db",
   "metadata": {},
   "outputs": [
    {
     "name": "stdout",
     "output_type": "stream",
     "text": [
      "Train R2:\t1.0\n",
      "Test R2:\t0.996\n"
     ]
    },
    {
     "data": {
      "image/png": "[encoded data removed]",
      "text/plain": [
       "<Figure size 1296x720 with 2 Axes>"
      ]
     },
     "metadata": {
      "needs_background": "light"
     },
     "output_type": "display_data"
    },
    {
     "data": {
      "text/html": [
       "<div>\n",
       "<style scoped>\n",
       "    .dataframe tbody tr th:only-of-type {\n",
       "        vertical-align: middle;\n",
       "    }\n",
       "\n",
       "    .dataframe tbody tr th {\n",
       "        vertical-align: top;\n",
       "    }\n",
       "\n",
       "    .dataframe thead th {\n",
       "        text-align: right;\n",
       "    }\n",
       "</style>\n",
       "<table border=\"1\" class=\"dataframe\">\n",
       "  <thead>\n",
       "    <tr style=\"text-align: right;\">\n",
       "      <th></th>\n",
       "      <th>Id</th>\n",
       "      <th>DistrictId</th>\n",
       "      <th>Rooms</th>\n",
       "      <th>Square</th>\n",
       "      <th>KitchenSquare</th>\n",
       "      <th>Floor</th>\n",
       "      <th>HouseFloor</th>\n",
       "      <th>HouseYear</th>\n",
       "      <th>Ecology_1</th>\n",
       "      <th>Social_1</th>\n",
       "      <th>Social_2</th>\n",
       "      <th>Social_3</th>\n",
       "      <th>Healthcare_1</th>\n",
       "      <th>Helthcare_2</th>\n",
       "      <th>Shops_1</th>\n",
       "      <th>Price</th>\n",
       "      <th>0</th>\n",
       "    </tr>\n",
       "  </thead>\n",
       "  <tbody>\n",
       "    <tr>\n",
       "      <th>1</th>\n",
       "      <td>3013</td>\n",
       "      <td>22</td>\n",
       "      <td>1.0</td>\n",
       "      <td>39.832524</td>\n",
       "      <td>8.0</td>\n",
       "      <td>7</td>\n",
       "      <td>8.0</td>\n",
       "      <td>1966</td>\n",
       "      <td>0.118537</td>\n",
       "      <td>30</td>\n",
       "      <td>6207</td>\n",
       "      <td>1</td>\n",
       "      <td>1183</td>\n",
       "      <td>1</td>\n",
       "      <td>0</td>\n",
       "      <td>177734.553407</td>\n",
       "      <td>1</td>\n",
       "    </tr>\n",
       "    <tr>\n",
       "      <th>2</th>\n",
       "      <td>8215</td>\n",
       "      <td>1</td>\n",
       "      <td>3.0</td>\n",
       "      <td>78.342215</td>\n",
       "      <td>10.0</td>\n",
       "      <td>2</td>\n",
       "      <td>17.0</td>\n",
       "      <td>1988</td>\n",
       "      <td>0.025609</td>\n",
       "      <td>33</td>\n",
       "      <td>5261</td>\n",
       "      <td>0</td>\n",
       "      <td>240</td>\n",
       "      <td>3</td>\n",
       "      <td>1</td>\n",
       "      <td>282078.720850</td>\n",
       "      <td>2</td>\n",
       "    </tr>\n",
       "    <tr>\n",
       "      <th>5</th>\n",
       "      <td>5804</td>\n",
       "      <td>99</td>\n",
       "      <td>3.0</td>\n",
       "      <td>62.528465</td>\n",
       "      <td>6.0</td>\n",
       "      <td>9</td>\n",
       "      <td>9.0</td>\n",
       "      <td>1972</td>\n",
       "      <td>0.012339</td>\n",
       "      <td>35</td>\n",
       "      <td>5776</td>\n",
       "      <td>1</td>\n",
       "      <td>2078</td>\n",
       "      <td>2</td>\n",
       "      <td>4</td>\n",
       "      <td>161044.944138</td>\n",
       "      <td>5</td>\n",
       "    </tr>\n",
       "    <tr>\n",
       "      <th>6</th>\n",
       "      <td>8864</td>\n",
       "      <td>44</td>\n",
       "      <td>1.0</td>\n",
       "      <td>33.938750</td>\n",
       "      <td>9.0</td>\n",
       "      <td>1</td>\n",
       "      <td>12.0</td>\n",
       "      <td>1968</td>\n",
       "      <td>0.232205</td>\n",
       "      <td>24</td>\n",
       "      <td>4860</td>\n",
       "      <td>1</td>\n",
       "      <td>80</td>\n",
       "      <td>0</td>\n",
       "      <td>3</td>\n",
       "      <td>142402.739272</td>\n",
       "      <td>6</td>\n",
       "    </tr>\n",
       "    <tr>\n",
       "      <th>7</th>\n",
       "      <td>13072</td>\n",
       "      <td>59</td>\n",
       "      <td>2.0</td>\n",
       "      <td>50.391814</td>\n",
       "      <td>8.0</td>\n",
       "      <td>8</td>\n",
       "      <td>17.0</td>\n",
       "      <td>1986</td>\n",
       "      <td>0.019509</td>\n",
       "      <td>37</td>\n",
       "      <td>7687</td>\n",
       "      <td>11</td>\n",
       "      <td>176</td>\n",
       "      <td>5</td>\n",
       "      <td>5</td>\n",
       "      <td>326174.175191</td>\n",
       "      <td>7</td>\n",
       "    </tr>\n",
       "    <tr>\n",
       "      <th>...</th>\n",
       "      <td>...</td>\n",
       "      <td>...</td>\n",
       "      <td>...</td>\n",
       "      <td>...</td>\n",
       "      <td>...</td>\n",
       "      <td>...</td>\n",
       "      <td>...</td>\n",
       "      <td>...</td>\n",
       "      <td>...</td>\n",
       "      <td>...</td>\n",
       "      <td>...</td>\n",
       "      <td>...</td>\n",
       "      <td>...</td>\n",
       "      <td>...</td>\n",
       "      <td>...</td>\n",
       "      <td>...</td>\n",
       "      <td>...</td>\n",
       "    </tr>\n",
       "    <tr>\n",
       "      <th>9990</th>\n",
       "      <td>10635</td>\n",
       "      <td>21</td>\n",
       "      <td>1.0</td>\n",
       "      <td>18.983962</td>\n",
       "      <td>2.0</td>\n",
       "      <td>1</td>\n",
       "      <td>5.0</td>\n",
       "      <td>1967</td>\n",
       "      <td>0.194489</td>\n",
       "      <td>47</td>\n",
       "      <td>8004</td>\n",
       "      <td>3</td>\n",
       "      <td>125</td>\n",
       "      <td>3</td>\n",
       "      <td>5</td>\n",
       "      <td>112411.221700</td>\n",
       "      <td>9990</td>\n",
       "    </tr>\n",
       "    <tr>\n",
       "      <th>9991</th>\n",
       "      <td>11173</td>\n",
       "      <td>6</td>\n",
       "      <td>2.0</td>\n",
       "      <td>62.648779</td>\n",
       "      <td>0.0</td>\n",
       "      <td>6</td>\n",
       "      <td>17.0</td>\n",
       "      <td>1977</td>\n",
       "      <td>0.243205</td>\n",
       "      <td>5</td>\n",
       "      <td>1564</td>\n",
       "      <td>0</td>\n",
       "      <td>540</td>\n",
       "      <td>0</td>\n",
       "      <td>0</td>\n",
       "      <td>182625.548872</td>\n",
       "      <td>9991</td>\n",
       "    </tr>\n",
       "    <tr>\n",
       "      <th>9992</th>\n",
       "      <td>11753</td>\n",
       "      <td>37</td>\n",
       "      <td>2.0</td>\n",
       "      <td>50.902724</td>\n",
       "      <td>6.0</td>\n",
       "      <td>4</td>\n",
       "      <td>9.0</td>\n",
       "      <td>1972</td>\n",
       "      <td>0.127812</td>\n",
       "      <td>28</td>\n",
       "      <td>7287</td>\n",
       "      <td>5</td>\n",
       "      <td>320</td>\n",
       "      <td>1</td>\n",
       "      <td>3</td>\n",
       "      <td>196641.468817</td>\n",
       "      <td>9992</td>\n",
       "    </tr>\n",
       "    <tr>\n",
       "      <th>9994</th>\n",
       "      <td>4356</td>\n",
       "      <td>9</td>\n",
       "      <td>1.0</td>\n",
       "      <td>43.303458</td>\n",
       "      <td>8.0</td>\n",
       "      <td>12</td>\n",
       "      <td>14.0</td>\n",
       "      <td>1992</td>\n",
       "      <td>0.161532</td>\n",
       "      <td>25</td>\n",
       "      <td>5648</td>\n",
       "      <td>1</td>\n",
       "      <td>30</td>\n",
       "      <td>2</td>\n",
       "      <td>4</td>\n",
       "      <td>136744.340827</td>\n",
       "      <td>9994</td>\n",
       "    </tr>\n",
       "    <tr>\n",
       "      <th>9998</th>\n",
       "      <td>14561</td>\n",
       "      <td>21</td>\n",
       "      <td>1.0</td>\n",
       "      <td>32.330292</td>\n",
       "      <td>5.0</td>\n",
       "      <td>3</td>\n",
       "      <td>9.0</td>\n",
       "      <td>1969</td>\n",
       "      <td>0.194489</td>\n",
       "      <td>47</td>\n",
       "      <td>8004</td>\n",
       "      <td>3</td>\n",
       "      <td>125</td>\n",
       "      <td>3</td>\n",
       "      <td>5</td>\n",
       "      <td>171842.411855</td>\n",
       "      <td>9998</td>\n",
       "    </tr>\n",
       "  </tbody>\n",
       "</table>\n",
       "<p>5202 rows × 17 columns</p>\n",
       "</div>"
      ],
      "text/plain": [
       "         Id DistrictId  Rooms     Square  KitchenSquare  Floor  HouseFloor  \\\n",
       "1      3013         22    1.0  39.832524            8.0      7         8.0   \n",
       "2      8215          1    3.0  78.342215           10.0      2        17.0   \n",
       "5      5804         99    3.0  62.528465            6.0      9         9.0   \n",
       "6      8864         44    1.0  33.938750            9.0      1        12.0   \n",
       "7     13072         59    2.0  50.391814            8.0      8        17.0   \n",
       "...     ...        ...    ...        ...            ...    ...         ...   \n",
       "9990  10635         21    1.0  18.983962            2.0      1         5.0   \n",
       "9991  11173          6    2.0  62.648779            0.0      6        17.0   \n",
       "9992  11753         37    2.0  50.902724            6.0      4         9.0   \n",
       "9994   4356          9    1.0  43.303458            8.0     12        14.0   \n",
       "9998  14561         21    1.0  32.330292            5.0      3         9.0   \n",
       "\n",
       "      HouseYear  Ecology_1  Social_1  Social_2  Social_3  Healthcare_1  \\\n",
       "1          1966   0.118537        30      6207         1          1183   \n",
       "2          1988   0.025609        33      5261         0           240   \n",
       "5          1972   0.012339        35      5776         1          2078   \n",
       "6          1968   0.232205        24      4860         1            80   \n",
       "7          1986   0.019509        37      7687        11           176   \n",
       "...         ...        ...       ...       ...       ...           ...   \n",
       "9990       1967   0.194489        47      8004         3           125   \n",
       "9991       1977   0.243205         5      1564         0           540   \n",
       "9992       1972   0.127812        28      7287         5           320   \n",
       "9994       1992   0.161532        25      5648         1            30   \n",
       "9998       1969   0.194489        47      8004         3           125   \n",
       "\n",
       "      Helthcare_2  Shops_1          Price     0  \n",
       "1               1        0  177734.553407     1  \n",
       "2               3        1  282078.720850     2  \n",
       "5               2        4  161044.944138     5  \n",
       "6               0        3  142402.739272     6  \n",
       "7               5        5  326174.175191     7  \n",
       "...           ...      ...            ...   ...  \n",
       "9990            3        5  112411.221700  9990  \n",
       "9991            0        0  182625.548872  9991  \n",
       "9992            1        3  196641.468817  9992  \n",
       "9994            2        4  136744.340827  9994  \n",
       "9998            3        5  171842.411855  9998  \n",
       "\n",
       "[5202 rows x 17 columns]"
      ]
     },
     "execution_count": 102,
     "metadata": {},
     "output_type": "execute_result"
    }
   ],
   "source": [
    "filling_atribute(target_name_h, target_name_ls, rf_model, df_train)"
   ]
  },
  {
   "cell_type": "code",
   "execution_count": null,
   "id": "ddda50b6",
   "metadata": {},
   "outputs": [],
   "source": []
  },
  {
   "cell_type": "code",
   "execution_count": 103,
   "id": "a6a8f947",
   "metadata": {},
   "outputs": [],
   "source": [
    "df_test = train2[train2['nan'] == 1]\n",
    "# выделяем в отдельную переменную служебный индекс \"0\"\n",
    "v = [x for x in df_test['0']]\n",
    "# выкидываем из фрейма колонки с целевой перменной и служебный индекс\n",
    "df_test = df_test.drop(columns=[target_name_h, '0'])\n",
    "\n",
    "# удалеяем колонку с признаком нанов\n",
    "df_test = df_test.drop(columns='nan')\n",
    "\n",
    "df_test[target_name_h] = rf_model.predict(df_test)"
   ]
  },
  {
   "cell_type": "code",
   "execution_count": 104,
   "id": "8fbb973e",
   "metadata": {},
   "outputs": [
    {
     "data": {
      "text/html": [
       "<div>\n",
       "<style scoped>\n",
       "    .dataframe tbody tr th:only-of-type {\n",
       "        vertical-align: middle;\n",
       "    }\n",
       "\n",
       "    .dataframe tbody tr th {\n",
       "        vertical-align: top;\n",
       "    }\n",
       "\n",
       "    .dataframe thead th {\n",
       "        text-align: right;\n",
       "    }\n",
       "</style>\n",
       "<table border=\"1\" class=\"dataframe\">\n",
       "  <thead>\n",
       "    <tr style=\"text-align: right;\">\n",
       "      <th></th>\n",
       "      <th>Id</th>\n",
       "      <th>DistrictId</th>\n",
       "      <th>Rooms</th>\n",
       "      <th>Square</th>\n",
       "      <th>KitchenSquare</th>\n",
       "      <th>Floor</th>\n",
       "      <th>HouseFloor</th>\n",
       "      <th>HouseYear</th>\n",
       "      <th>Ecology_1</th>\n",
       "      <th>Social_1</th>\n",
       "      <th>Social_2</th>\n",
       "      <th>Social_3</th>\n",
       "      <th>Healthcare_1</th>\n",
       "      <th>Helthcare_2</th>\n",
       "      <th>Shops_1</th>\n",
       "      <th>Price</th>\n",
       "      <th>0</th>\n",
       "      <th>nan</th>\n",
       "    </tr>\n",
       "  </thead>\n",
       "  <tbody>\n",
       "    <tr>\n",
       "      <th>1</th>\n",
       "      <td>3013</td>\n",
       "      <td>22</td>\n",
       "      <td>1.0</td>\n",
       "      <td>39.832524</td>\n",
       "      <td>8.0</td>\n",
       "      <td>7</td>\n",
       "      <td>8.0</td>\n",
       "      <td>1966</td>\n",
       "      <td>0.118537</td>\n",
       "      <td>30</td>\n",
       "      <td>6207</td>\n",
       "      <td>1</td>\n",
       "      <td>1183.0</td>\n",
       "      <td>1</td>\n",
       "      <td>0</td>\n",
       "      <td>177734.553407</td>\n",
       "      <td>1</td>\n",
       "      <td>0</td>\n",
       "    </tr>\n",
       "    <tr>\n",
       "      <th>2</th>\n",
       "      <td>8215</td>\n",
       "      <td>1</td>\n",
       "      <td>3.0</td>\n",
       "      <td>78.342215</td>\n",
       "      <td>10.0</td>\n",
       "      <td>2</td>\n",
       "      <td>17.0</td>\n",
       "      <td>1988</td>\n",
       "      <td>0.025609</td>\n",
       "      <td>33</td>\n",
       "      <td>5261</td>\n",
       "      <td>0</td>\n",
       "      <td>240.0</td>\n",
       "      <td>3</td>\n",
       "      <td>1</td>\n",
       "      <td>282078.720850</td>\n",
       "      <td>2</td>\n",
       "      <td>0</td>\n",
       "    </tr>\n",
       "    <tr>\n",
       "      <th>5</th>\n",
       "      <td>5804</td>\n",
       "      <td>99</td>\n",
       "      <td>3.0</td>\n",
       "      <td>62.528465</td>\n",
       "      <td>6.0</td>\n",
       "      <td>9</td>\n",
       "      <td>9.0</td>\n",
       "      <td>1972</td>\n",
       "      <td>0.012339</td>\n",
       "      <td>35</td>\n",
       "      <td>5776</td>\n",
       "      <td>1</td>\n",
       "      <td>2078.0</td>\n",
       "      <td>2</td>\n",
       "      <td>4</td>\n",
       "      <td>161044.944138</td>\n",
       "      <td>5</td>\n",
       "      <td>0</td>\n",
       "    </tr>\n",
       "    <tr>\n",
       "      <th>6</th>\n",
       "      <td>8864</td>\n",
       "      <td>44</td>\n",
       "      <td>1.0</td>\n",
       "      <td>33.938750</td>\n",
       "      <td>9.0</td>\n",
       "      <td>1</td>\n",
       "      <td>12.0</td>\n",
       "      <td>1968</td>\n",
       "      <td>0.232205</td>\n",
       "      <td>24</td>\n",
       "      <td>4860</td>\n",
       "      <td>1</td>\n",
       "      <td>80.0</td>\n",
       "      <td>0</td>\n",
       "      <td>3</td>\n",
       "      <td>142402.739272</td>\n",
       "      <td>6</td>\n",
       "      <td>0</td>\n",
       "    </tr>\n",
       "    <tr>\n",
       "      <th>7</th>\n",
       "      <td>13072</td>\n",
       "      <td>59</td>\n",
       "      <td>2.0</td>\n",
       "      <td>50.391814</td>\n",
       "      <td>8.0</td>\n",
       "      <td>8</td>\n",
       "      <td>17.0</td>\n",
       "      <td>1986</td>\n",
       "      <td>0.019509</td>\n",
       "      <td>37</td>\n",
       "      <td>7687</td>\n",
       "      <td>11</td>\n",
       "      <td>176.0</td>\n",
       "      <td>5</td>\n",
       "      <td>5</td>\n",
       "      <td>326174.175191</td>\n",
       "      <td>7</td>\n",
       "      <td>0</td>\n",
       "    </tr>\n",
       "  </tbody>\n",
       "</table>\n",
       "</div>"
      ],
      "text/plain": [
       "      Id DistrictId  Rooms     Square  KitchenSquare  Floor  HouseFloor  \\\n",
       "1   3013         22    1.0  39.832524            8.0      7         8.0   \n",
       "2   8215          1    3.0  78.342215           10.0      2        17.0   \n",
       "5   5804         99    3.0  62.528465            6.0      9         9.0   \n",
       "6   8864         44    1.0  33.938750            9.0      1        12.0   \n",
       "7  13072         59    2.0  50.391814            8.0      8        17.0   \n",
       "\n",
       "   HouseYear  Ecology_1  Social_1  Social_2  Social_3  Healthcare_1  \\\n",
       "1       1966   0.118537        30      6207         1        1183.0   \n",
       "2       1988   0.025609        33      5261         0         240.0   \n",
       "5       1972   0.012339        35      5776         1        2078.0   \n",
       "6       1968   0.232205        24      4860         1          80.0   \n",
       "7       1986   0.019509        37      7687        11         176.0   \n",
       "\n",
       "   Helthcare_2  Shops_1          Price  0  nan  \n",
       "1            1        0  177734.553407  1    0  \n",
       "2            3        1  282078.720850  2    0  \n",
       "5            2        4  161044.944138  5    0  \n",
       "6            0        3  142402.739272  6    0  \n",
       "7            5        5  326174.175191  7    0  "
      ]
     },
     "execution_count": 104,
     "metadata": {},
     "output_type": "execute_result"
    }
   ],
   "source": [
    "df_train.head()"
   ]
  },
  {
   "cell_type": "code",
   "execution_count": 105,
   "id": "2048df07",
   "metadata": {},
   "outputs": [
    {
     "data": {
      "text/html": [
       "<div>\n",
       "<style scoped>\n",
       "    .dataframe tbody tr th:only-of-type {\n",
       "        vertical-align: middle;\n",
       "    }\n",
       "\n",
       "    .dataframe tbody tr th {\n",
       "        vertical-align: top;\n",
       "    }\n",
       "\n",
       "    .dataframe thead th {\n",
       "        text-align: right;\n",
       "    }\n",
       "</style>\n",
       "<table border=\"1\" class=\"dataframe\">\n",
       "  <thead>\n",
       "    <tr style=\"text-align: right;\">\n",
       "      <th></th>\n",
       "      <th>Id</th>\n",
       "      <th>DistrictId</th>\n",
       "      <th>Rooms</th>\n",
       "      <th>Square</th>\n",
       "      <th>KitchenSquare</th>\n",
       "      <th>Floor</th>\n",
       "      <th>HouseFloor</th>\n",
       "      <th>HouseYear</th>\n",
       "      <th>Ecology_1</th>\n",
       "      <th>Social_1</th>\n",
       "      <th>Social_2</th>\n",
       "      <th>Social_3</th>\n",
       "      <th>Healthcare_1</th>\n",
       "      <th>Helthcare_2</th>\n",
       "      <th>Shops_1</th>\n",
       "      <th>Price</th>\n",
       "      <th>0</th>\n",
       "      <th>nan</th>\n",
       "    </tr>\n",
       "  </thead>\n",
       "  <tbody>\n",
       "    <tr>\n",
       "      <th>0</th>\n",
       "      <td>11809</td>\n",
       "      <td>27</td>\n",
       "      <td>3.0</td>\n",
       "      <td>115.027311</td>\n",
       "      <td>10.0</td>\n",
       "      <td>4</td>\n",
       "      <td>10.0</td>\n",
       "      <td>2014</td>\n",
       "      <td>0.075424</td>\n",
       "      <td>11</td>\n",
       "      <td>3097</td>\n",
       "      <td>0</td>\n",
       "      <td>804.96</td>\n",
       "      <td>0</td>\n",
       "      <td>0</td>\n",
       "      <td>305018.871089</td>\n",
       "      <td>0</td>\n",
       "      <td>NaN</td>\n",
       "    </tr>\n",
       "    <tr>\n",
       "      <th>1</th>\n",
       "      <td>3013</td>\n",
       "      <td>22</td>\n",
       "      <td>1.0</td>\n",
       "      <td>39.832524</td>\n",
       "      <td>8.0</td>\n",
       "      <td>7</td>\n",
       "      <td>8.0</td>\n",
       "      <td>1966</td>\n",
       "      <td>0.118537</td>\n",
       "      <td>30</td>\n",
       "      <td>6207</td>\n",
       "      <td>1</td>\n",
       "      <td>1183.00</td>\n",
       "      <td>1</td>\n",
       "      <td>0</td>\n",
       "      <td>177734.553407</td>\n",
       "      <td>1</td>\n",
       "      <td>0.0</td>\n",
       "    </tr>\n",
       "    <tr>\n",
       "      <th>2</th>\n",
       "      <td>8215</td>\n",
       "      <td>1</td>\n",
       "      <td>3.0</td>\n",
       "      <td>78.342215</td>\n",
       "      <td>10.0</td>\n",
       "      <td>2</td>\n",
       "      <td>17.0</td>\n",
       "      <td>1988</td>\n",
       "      <td>0.025609</td>\n",
       "      <td>33</td>\n",
       "      <td>5261</td>\n",
       "      <td>0</td>\n",
       "      <td>240.00</td>\n",
       "      <td>3</td>\n",
       "      <td>1</td>\n",
       "      <td>282078.720850</td>\n",
       "      <td>2</td>\n",
       "      <td>0.0</td>\n",
       "    </tr>\n",
       "    <tr>\n",
       "      <th>3</th>\n",
       "      <td>2352</td>\n",
       "      <td>1</td>\n",
       "      <td>1.0</td>\n",
       "      <td>40.409907</td>\n",
       "      <td>1.0</td>\n",
       "      <td>10</td>\n",
       "      <td>22.0</td>\n",
       "      <td>1977</td>\n",
       "      <td>0.007122</td>\n",
       "      <td>1</td>\n",
       "      <td>264</td>\n",
       "      <td>0</td>\n",
       "      <td>412.34</td>\n",
       "      <td>0</td>\n",
       "      <td>1</td>\n",
       "      <td>168106.007630</td>\n",
       "      <td>3</td>\n",
       "      <td>NaN</td>\n",
       "    </tr>\n",
       "    <tr>\n",
       "      <th>4</th>\n",
       "      <td>13866</td>\n",
       "      <td>94</td>\n",
       "      <td>2.0</td>\n",
       "      <td>64.285067</td>\n",
       "      <td>9.0</td>\n",
       "      <td>16</td>\n",
       "      <td>16.0</td>\n",
       "      <td>1972</td>\n",
       "      <td>0.282798</td>\n",
       "      <td>33</td>\n",
       "      <td>8667</td>\n",
       "      <td>2</td>\n",
       "      <td>2059.60</td>\n",
       "      <td>0</td>\n",
       "      <td>6</td>\n",
       "      <td>343995.102962</td>\n",
       "      <td>4</td>\n",
       "      <td>NaN</td>\n",
       "    </tr>\n",
       "  </tbody>\n",
       "</table>\n",
       "</div>"
      ],
      "text/plain": [
       "      Id DistrictId  Rooms      Square  KitchenSquare  Floor  HouseFloor  \\\n",
       "0  11809         27    3.0  115.027311           10.0      4        10.0   \n",
       "1   3013         22    1.0   39.832524            8.0      7         8.0   \n",
       "2   8215          1    3.0   78.342215           10.0      2        17.0   \n",
       "3   2352          1    1.0   40.409907            1.0     10        22.0   \n",
       "4  13866         94    2.0   64.285067            9.0     16        16.0   \n",
       "\n",
       "   HouseYear  Ecology_1  Social_1  Social_2  Social_3  Healthcare_1  \\\n",
       "0       2014   0.075424        11      3097         0        804.96   \n",
       "1       1966   0.118537        30      6207         1       1183.00   \n",
       "2       1988   0.025609        33      5261         0        240.00   \n",
       "3       1977   0.007122         1       264         0        412.34   \n",
       "4       1972   0.282798        33      8667         2       2059.60   \n",
       "\n",
       "   Helthcare_2  Shops_1          Price  0  nan  \n",
       "0            0        0  305018.871089  0  NaN  \n",
       "1            1        0  177734.553407  1  0.0  \n",
       "2            3        1  282078.720850  2  0.0  \n",
       "3            0        1  168106.007630  3  NaN  \n",
       "4            0        6  343995.102962  4  NaN  "
      ]
     },
     "execution_count": 105,
     "metadata": {},
     "output_type": "execute_result"
    }
   ],
   "source": [
    "df_test['0'] = v\n",
    "train_df2 = pd.concat([df_train, df_test])\n",
    "train_df2 = train_df2.sort_values(by=['0'])\n",
    "train_df2.head()"
   ]
  },
  {
   "cell_type": "code",
   "execution_count": 106,
   "id": "b515a730",
   "metadata": {},
   "outputs": [],
   "source": [
    "train_df2 = train_df2.merge(df_drop, left_on='0', right_on='0', how='left')"
   ]
  },
  {
   "cell_type": "code",
   "execution_count": 111,
   "id": "36abbf64",
   "metadata": {},
   "outputs": [
    {
     "ename": "KeyError",
     "evalue": "\"['nan'] not found in axis\"",
     "output_type": "error",
     "traceback": [
      "\u001b[1;31m---------------------------------------------------------------------------\u001b[0m",
      "\u001b[1;31mKeyError\u001b[0m                                  Traceback (most recent call last)",
      "\u001b[1;32m~\\AppData\\Local\\Temp/ipykernel_10264/1694251116.py\u001b[0m in \u001b[0;36m<module>\u001b[1;34m\u001b[0m\n\u001b[1;32m----> 1\u001b[1;33m \u001b[0mtrain_df2\u001b[0m \u001b[1;33m=\u001b[0m \u001b[0mtrain_df2\u001b[0m\u001b[1;33m.\u001b[0m\u001b[0mdrop\u001b[0m\u001b[1;33m(\u001b[0m\u001b[0mcolumns\u001b[0m\u001b[1;33m=\u001b[0m\u001b[1;33m[\u001b[0m\u001b[1;34m'nan'\u001b[0m\u001b[1;33m]\u001b[0m\u001b[1;33m)\u001b[0m\u001b[1;33m\u001b[0m\u001b[1;33m\u001b[0m\u001b[0m\n\u001b[0m\u001b[0;32m      2\u001b[0m \u001b[0mtrain_df2\u001b[0m\u001b[1;33m\u001b[0m\u001b[1;33m\u001b[0m\u001b[0m\n",
      "\u001b[1;32mC:\\ProgramData\\Anaconda3\\lib\\site-packages\\pandas\\util\\_decorators.py\u001b[0m in \u001b[0;36mwrapper\u001b[1;34m(*args, **kwargs)\u001b[0m\n\u001b[0;32m    309\u001b[0m                     \u001b[0mstacklevel\u001b[0m\u001b[1;33m=\u001b[0m\u001b[0mstacklevel\u001b[0m\u001b[1;33m,\u001b[0m\u001b[1;33m\u001b[0m\u001b[1;33m\u001b[0m\u001b[0m\n\u001b[0;32m    310\u001b[0m                 )\n\u001b[1;32m--> 311\u001b[1;33m             \u001b[1;32mreturn\u001b[0m \u001b[0mfunc\u001b[0m\u001b[1;33m(\u001b[0m\u001b[1;33m*\u001b[0m\u001b[0margs\u001b[0m\u001b[1;33m,\u001b[0m \u001b[1;33m**\u001b[0m\u001b[0mkwargs\u001b[0m\u001b[1;33m)\u001b[0m\u001b[1;33m\u001b[0m\u001b[1;33m\u001b[0m\u001b[0m\n\u001b[0m\u001b[0;32m    312\u001b[0m \u001b[1;33m\u001b[0m\u001b[0m\n\u001b[0;32m    313\u001b[0m         \u001b[1;32mreturn\u001b[0m \u001b[0mwrapper\u001b[0m\u001b[1;33m\u001b[0m\u001b[1;33m\u001b[0m\u001b[0m\n",
      "\u001b[1;32mC:\\ProgramData\\Anaconda3\\lib\\site-packages\\pandas\\core\\frame.py\u001b[0m in \u001b[0;36mdrop\u001b[1;34m(self, labels, axis, index, columns, level, inplace, errors)\u001b[0m\n\u001b[0;32m   4904\u001b[0m                 \u001b[0mweight\u001b[0m  \u001b[1;36m1.0\u001b[0m     \u001b[1;36m0.8\u001b[0m\u001b[1;33m\u001b[0m\u001b[1;33m\u001b[0m\u001b[0m\n\u001b[0;32m   4905\u001b[0m         \"\"\"\n\u001b[1;32m-> 4906\u001b[1;33m         return super().drop(\n\u001b[0m\u001b[0;32m   4907\u001b[0m             \u001b[0mlabels\u001b[0m\u001b[1;33m=\u001b[0m\u001b[0mlabels\u001b[0m\u001b[1;33m,\u001b[0m\u001b[1;33m\u001b[0m\u001b[1;33m\u001b[0m\u001b[0m\n\u001b[0;32m   4908\u001b[0m             \u001b[0maxis\u001b[0m\u001b[1;33m=\u001b[0m\u001b[0maxis\u001b[0m\u001b[1;33m,\u001b[0m\u001b[1;33m\u001b[0m\u001b[1;33m\u001b[0m\u001b[0m\n",
      "\u001b[1;32mC:\\ProgramData\\Anaconda3\\lib\\site-packages\\pandas\\core\\generic.py\u001b[0m in \u001b[0;36mdrop\u001b[1;34m(self, labels, axis, index, columns, level, inplace, errors)\u001b[0m\n\u001b[0;32m   4148\u001b[0m         \u001b[1;32mfor\u001b[0m \u001b[0maxis\u001b[0m\u001b[1;33m,\u001b[0m \u001b[0mlabels\u001b[0m \u001b[1;32min\u001b[0m \u001b[0maxes\u001b[0m\u001b[1;33m.\u001b[0m\u001b[0mitems\u001b[0m\u001b[1;33m(\u001b[0m\u001b[1;33m)\u001b[0m\u001b[1;33m:\u001b[0m\u001b[1;33m\u001b[0m\u001b[1;33m\u001b[0m\u001b[0m\n\u001b[0;32m   4149\u001b[0m             \u001b[1;32mif\u001b[0m \u001b[0mlabels\u001b[0m \u001b[1;32mis\u001b[0m \u001b[1;32mnot\u001b[0m \u001b[1;32mNone\u001b[0m\u001b[1;33m:\u001b[0m\u001b[1;33m\u001b[0m\u001b[1;33m\u001b[0m\u001b[0m\n\u001b[1;32m-> 4150\u001b[1;33m                 \u001b[0mobj\u001b[0m \u001b[1;33m=\u001b[0m \u001b[0mobj\u001b[0m\u001b[1;33m.\u001b[0m\u001b[0m_drop_axis\u001b[0m\u001b[1;33m(\u001b[0m\u001b[0mlabels\u001b[0m\u001b[1;33m,\u001b[0m \u001b[0maxis\u001b[0m\u001b[1;33m,\u001b[0m \u001b[0mlevel\u001b[0m\u001b[1;33m=\u001b[0m\u001b[0mlevel\u001b[0m\u001b[1;33m,\u001b[0m \u001b[0merrors\u001b[0m\u001b[1;33m=\u001b[0m\u001b[0merrors\u001b[0m\u001b[1;33m)\u001b[0m\u001b[1;33m\u001b[0m\u001b[1;33m\u001b[0m\u001b[0m\n\u001b[0m\u001b[0;32m   4151\u001b[0m \u001b[1;33m\u001b[0m\u001b[0m\n\u001b[0;32m   4152\u001b[0m         \u001b[1;32mif\u001b[0m \u001b[0minplace\u001b[0m\u001b[1;33m:\u001b[0m\u001b[1;33m\u001b[0m\u001b[1;33m\u001b[0m\u001b[0m\n",
      "\u001b[1;32mC:\\ProgramData\\Anaconda3\\lib\\site-packages\\pandas\\core\\generic.py\u001b[0m in \u001b[0;36m_drop_axis\u001b[1;34m(self, labels, axis, level, errors)\u001b[0m\n\u001b[0;32m   4183\u001b[0m                 \u001b[0mnew_axis\u001b[0m \u001b[1;33m=\u001b[0m \u001b[0maxis\u001b[0m\u001b[1;33m.\u001b[0m\u001b[0mdrop\u001b[0m\u001b[1;33m(\u001b[0m\u001b[0mlabels\u001b[0m\u001b[1;33m,\u001b[0m \u001b[0mlevel\u001b[0m\u001b[1;33m=\u001b[0m\u001b[0mlevel\u001b[0m\u001b[1;33m,\u001b[0m \u001b[0merrors\u001b[0m\u001b[1;33m=\u001b[0m\u001b[0merrors\u001b[0m\u001b[1;33m)\u001b[0m\u001b[1;33m\u001b[0m\u001b[1;33m\u001b[0m\u001b[0m\n\u001b[0;32m   4184\u001b[0m             \u001b[1;32melse\u001b[0m\u001b[1;33m:\u001b[0m\u001b[1;33m\u001b[0m\u001b[1;33m\u001b[0m\u001b[0m\n\u001b[1;32m-> 4185\u001b[1;33m                 \u001b[0mnew_axis\u001b[0m \u001b[1;33m=\u001b[0m \u001b[0maxis\u001b[0m\u001b[1;33m.\u001b[0m\u001b[0mdrop\u001b[0m\u001b[1;33m(\u001b[0m\u001b[0mlabels\u001b[0m\u001b[1;33m,\u001b[0m \u001b[0merrors\u001b[0m\u001b[1;33m=\u001b[0m\u001b[0merrors\u001b[0m\u001b[1;33m)\u001b[0m\u001b[1;33m\u001b[0m\u001b[1;33m\u001b[0m\u001b[0m\n\u001b[0m\u001b[0;32m   4186\u001b[0m             \u001b[0mresult\u001b[0m \u001b[1;33m=\u001b[0m \u001b[0mself\u001b[0m\u001b[1;33m.\u001b[0m\u001b[0mreindex\u001b[0m\u001b[1;33m(\u001b[0m\u001b[1;33m**\u001b[0m\u001b[1;33m{\u001b[0m\u001b[0maxis_name\u001b[0m\u001b[1;33m:\u001b[0m \u001b[0mnew_axis\u001b[0m\u001b[1;33m}\u001b[0m\u001b[1;33m)\u001b[0m\u001b[1;33m\u001b[0m\u001b[1;33m\u001b[0m\u001b[0m\n\u001b[0;32m   4187\u001b[0m \u001b[1;33m\u001b[0m\u001b[0m\n",
      "\u001b[1;32mC:\\ProgramData\\Anaconda3\\lib\\site-packages\\pandas\\core\\indexes\\base.py\u001b[0m in \u001b[0;36mdrop\u001b[1;34m(self, labels, errors)\u001b[0m\n\u001b[0;32m   6015\u001b[0m         \u001b[1;32mif\u001b[0m \u001b[0mmask\u001b[0m\u001b[1;33m.\u001b[0m\u001b[0many\u001b[0m\u001b[1;33m(\u001b[0m\u001b[1;33m)\u001b[0m\u001b[1;33m:\u001b[0m\u001b[1;33m\u001b[0m\u001b[1;33m\u001b[0m\u001b[0m\n\u001b[0;32m   6016\u001b[0m             \u001b[1;32mif\u001b[0m \u001b[0merrors\u001b[0m \u001b[1;33m!=\u001b[0m \u001b[1;34m\"ignore\"\u001b[0m\u001b[1;33m:\u001b[0m\u001b[1;33m\u001b[0m\u001b[1;33m\u001b[0m\u001b[0m\n\u001b[1;32m-> 6017\u001b[1;33m                 \u001b[1;32mraise\u001b[0m \u001b[0mKeyError\u001b[0m\u001b[1;33m(\u001b[0m\u001b[1;34mf\"{labels[mask]} not found in axis\"\u001b[0m\u001b[1;33m)\u001b[0m\u001b[1;33m\u001b[0m\u001b[1;33m\u001b[0m\u001b[0m\n\u001b[0m\u001b[0;32m   6018\u001b[0m             \u001b[0mindexer\u001b[0m \u001b[1;33m=\u001b[0m \u001b[0mindexer\u001b[0m\u001b[1;33m[\u001b[0m\u001b[1;33m~\u001b[0m\u001b[0mmask\u001b[0m\u001b[1;33m]\u001b[0m\u001b[1;33m\u001b[0m\u001b[1;33m\u001b[0m\u001b[0m\n\u001b[0;32m   6019\u001b[0m         \u001b[1;32mreturn\u001b[0m \u001b[0mself\u001b[0m\u001b[1;33m.\u001b[0m\u001b[0mdelete\u001b[0m\u001b[1;33m(\u001b[0m\u001b[0mindexer\u001b[0m\u001b[1;33m)\u001b[0m\u001b[1;33m\u001b[0m\u001b[1;33m\u001b[0m\u001b[0m\n",
      "\u001b[1;31mKeyError\u001b[0m: \"['nan'] not found in axis\""
     ]
    }
   ],
   "source": [
    "train_df2 = train_df2.drop(columns=['nan'])"
   ]
  },
  {
   "cell_type": "code",
   "execution_count": 115,
   "id": "941ab3db",
   "metadata": {},
   "outputs": [
    {
     "data": {
      "text/html": [
       "<div>\n",
       "<style scoped>\n",
       "    .dataframe tbody tr th:only-of-type {\n",
       "        vertical-align: middle;\n",
       "    }\n",
       "\n",
       "    .dataframe tbody tr th {\n",
       "        vertical-align: top;\n",
       "    }\n",
       "\n",
       "    .dataframe thead th {\n",
       "        text-align: right;\n",
       "    }\n",
       "</style>\n",
       "<table border=\"1\" class=\"dataframe\">\n",
       "  <thead>\n",
       "    <tr style=\"text-align: right;\">\n",
       "      <th></th>\n",
       "      <th>Id</th>\n",
       "      <th>DistrictId</th>\n",
       "      <th>Rooms</th>\n",
       "      <th>Square</th>\n",
       "      <th>KitchenSquare</th>\n",
       "      <th>Floor</th>\n",
       "      <th>HouseFloor</th>\n",
       "      <th>HouseYear</th>\n",
       "      <th>Ecology_1</th>\n",
       "      <th>Social_1</th>\n",
       "      <th>Social_2</th>\n",
       "      <th>Social_3</th>\n",
       "      <th>Healthcare_1</th>\n",
       "      <th>Helthcare_2</th>\n",
       "      <th>Shops_1</th>\n",
       "      <th>Price</th>\n",
       "      <th>0</th>\n",
       "      <th>LifeSquare</th>\n",
       "    </tr>\n",
       "  </thead>\n",
       "  <tbody>\n",
       "    <tr>\n",
       "      <th>0</th>\n",
       "      <td>11809</td>\n",
       "      <td>27</td>\n",
       "      <td>3.0</td>\n",
       "      <td>115.027311</td>\n",
       "      <td>10.0</td>\n",
       "      <td>4</td>\n",
       "      <td>10.0</td>\n",
       "      <td>2014</td>\n",
       "      <td>0.075424</td>\n",
       "      <td>11</td>\n",
       "      <td>3097</td>\n",
       "      <td>0</td>\n",
       "      <td>804.96</td>\n",
       "      <td>0</td>\n",
       "      <td>0</td>\n",
       "      <td>305018.871089</td>\n",
       "      <td>0</td>\n",
       "      <td>NaN</td>\n",
       "    </tr>\n",
       "    <tr>\n",
       "      <th>1</th>\n",
       "      <td>3013</td>\n",
       "      <td>22</td>\n",
       "      <td>1.0</td>\n",
       "      <td>39.832524</td>\n",
       "      <td>8.0</td>\n",
       "      <td>7</td>\n",
       "      <td>8.0</td>\n",
       "      <td>1966</td>\n",
       "      <td>0.118537</td>\n",
       "      <td>30</td>\n",
       "      <td>6207</td>\n",
       "      <td>1</td>\n",
       "      <td>1183.00</td>\n",
       "      <td>1</td>\n",
       "      <td>0</td>\n",
       "      <td>177734.553407</td>\n",
       "      <td>1</td>\n",
       "      <td>23.169223</td>\n",
       "    </tr>\n",
       "    <tr>\n",
       "      <th>2</th>\n",
       "      <td>8215</td>\n",
       "      <td>1</td>\n",
       "      <td>3.0</td>\n",
       "      <td>78.342215</td>\n",
       "      <td>10.0</td>\n",
       "      <td>2</td>\n",
       "      <td>17.0</td>\n",
       "      <td>1988</td>\n",
       "      <td>0.025609</td>\n",
       "      <td>33</td>\n",
       "      <td>5261</td>\n",
       "      <td>0</td>\n",
       "      <td>240.00</td>\n",
       "      <td>3</td>\n",
       "      <td>1</td>\n",
       "      <td>282078.720850</td>\n",
       "      <td>2</td>\n",
       "      <td>47.671972</td>\n",
       "    </tr>\n",
       "    <tr>\n",
       "      <th>3</th>\n",
       "      <td>2352</td>\n",
       "      <td>1</td>\n",
       "      <td>1.0</td>\n",
       "      <td>40.409907</td>\n",
       "      <td>1.0</td>\n",
       "      <td>10</td>\n",
       "      <td>22.0</td>\n",
       "      <td>1977</td>\n",
       "      <td>0.007122</td>\n",
       "      <td>1</td>\n",
       "      <td>264</td>\n",
       "      <td>0</td>\n",
       "      <td>412.34</td>\n",
       "      <td>0</td>\n",
       "      <td>1</td>\n",
       "      <td>168106.007630</td>\n",
       "      <td>3</td>\n",
       "      <td>NaN</td>\n",
       "    </tr>\n",
       "    <tr>\n",
       "      <th>4</th>\n",
       "      <td>13866</td>\n",
       "      <td>94</td>\n",
       "      <td>2.0</td>\n",
       "      <td>64.285067</td>\n",
       "      <td>9.0</td>\n",
       "      <td>16</td>\n",
       "      <td>16.0</td>\n",
       "      <td>1972</td>\n",
       "      <td>0.282798</td>\n",
       "      <td>33</td>\n",
       "      <td>8667</td>\n",
       "      <td>2</td>\n",
       "      <td>2059.60</td>\n",
       "      <td>0</td>\n",
       "      <td>6</td>\n",
       "      <td>343995.102962</td>\n",
       "      <td>4</td>\n",
       "      <td>38.562517</td>\n",
       "    </tr>\n",
       "  </tbody>\n",
       "</table>\n",
       "</div>"
      ],
      "text/plain": [
       "      Id DistrictId  Rooms      Square  KitchenSquare  Floor  HouseFloor  \\\n",
       "0  11809         27    3.0  115.027311           10.0      4        10.0   \n",
       "1   3013         22    1.0   39.832524            8.0      7         8.0   \n",
       "2   8215          1    3.0   78.342215           10.0      2        17.0   \n",
       "3   2352          1    1.0   40.409907            1.0     10        22.0   \n",
       "4  13866         94    2.0   64.285067            9.0     16        16.0   \n",
       "\n",
       "   HouseYear  Ecology_1  Social_1  Social_2  Social_3  Healthcare_1  \\\n",
       "0       2014   0.075424        11      3097         0        804.96   \n",
       "1       1966   0.118537        30      6207         1       1183.00   \n",
       "2       1988   0.025609        33      5261         0        240.00   \n",
       "3       1977   0.007122         1       264         0        412.34   \n",
       "4       1972   0.282798        33      8667         2       2059.60   \n",
       "\n",
       "   Helthcare_2  Shops_1          Price  0  LifeSquare  \n",
       "0            0        0  305018.871089  0         NaN  \n",
       "1            1        0  177734.553407  1   23.169223  \n",
       "2            3        1  282078.720850  2   47.671972  \n",
       "3            0        1  168106.007630  3         NaN  \n",
       "4            0        6  343995.102962  4   38.562517  "
      ]
     },
     "execution_count": 115,
     "metadata": {},
     "output_type": "execute_result"
    }
   ],
   "source": [
    "train_df2.head()"
   ]
  },
  {
   "cell_type": "markdown",
   "id": "e8429a5a",
   "metadata": {},
   "source": [
    "## Заполнение LifeSquare медианой"
   ]
  },
  {
   "cell_type": "code",
   "execution_count": 116,
   "id": "12a7e63b",
   "metadata": {},
   "outputs": [
    {
     "data": {
      "text/plain": [
       "Rooms\n",
       "0.0     90.558075\n",
       "1.0     25.159008\n",
       "2.0     35.971895\n",
       "3.0     54.942865\n",
       "4.0     65.667066\n",
       "5.0     89.445712\n",
       "6.0     38.702244\n",
       "10.0    37.321877\n",
       "19.0    21.779288\n",
       "Name: LifeSquare, dtype: float64"
      ]
     },
     "execution_count": 116,
     "metadata": {},
     "output_type": "execute_result"
    }
   ],
   "source": [
    "train_df2.groupby('Rooms')['LifeSquare'].mean()"
   ]
  },
  {
   "cell_type": "code",
   "execution_count": 119,
   "id": "2ed72a65",
   "metadata": {},
   "outputs": [
    {
     "data": {
      "text/plain": [
       "Rooms\n",
       "0.0     57.588610\n",
       "1.0     44.079818\n",
       "2.0     64.694726\n",
       "3.0     86.159520\n",
       "4.0    114.739795\n",
       "5.0     94.856298\n",
       "Name: Square, dtype: float64"
      ]
     },
     "execution_count": 119,
     "metadata": {},
     "output_type": "execute_result"
    }
   ],
   "source": [
    "train_df2[train_df2['LifeSquare'].isnull()].groupby('Rooms')['Square'].mean()"
   ]
  },
  {
   "cell_type": "code",
   "execution_count": 120,
   "id": "9cc1e530",
   "metadata": {},
   "outputs": [
    {
     "data": {
      "text/html": [
       "<div>\n",
       "<style scoped>\n",
       "    .dataframe tbody tr th:only-of-type {\n",
       "        vertical-align: middle;\n",
       "    }\n",
       "\n",
       "    .dataframe tbody tr th {\n",
       "        vertical-align: top;\n",
       "    }\n",
       "\n",
       "    .dataframe thead th {\n",
       "        text-align: right;\n",
       "    }\n",
       "</style>\n",
       "<table border=\"1\" class=\"dataframe\">\n",
       "  <thead>\n",
       "    <tr style=\"text-align: right;\">\n",
       "      <th></th>\n",
       "      <th>Id</th>\n",
       "      <th>DistrictId</th>\n",
       "      <th>Rooms</th>\n",
       "      <th>Square</th>\n",
       "      <th>KitchenSquare</th>\n",
       "      <th>Floor</th>\n",
       "      <th>HouseFloor</th>\n",
       "      <th>HouseYear</th>\n",
       "      <th>Ecology_1</th>\n",
       "      <th>Social_1</th>\n",
       "      <th>Social_2</th>\n",
       "      <th>Social_3</th>\n",
       "      <th>Healthcare_1</th>\n",
       "      <th>Helthcare_2</th>\n",
       "      <th>Shops_1</th>\n",
       "      <th>Price</th>\n",
       "      <th>0</th>\n",
       "      <th>LifeSquare</th>\n",
       "    </tr>\n",
       "  </thead>\n",
       "  <tbody>\n",
       "    <tr>\n",
       "      <th>0</th>\n",
       "      <td>11809</td>\n",
       "      <td>27</td>\n",
       "      <td>3.0</td>\n",
       "      <td>115.027311</td>\n",
       "      <td>10.0</td>\n",
       "      <td>4</td>\n",
       "      <td>10.0</td>\n",
       "      <td>2014</td>\n",
       "      <td>0.075424</td>\n",
       "      <td>11</td>\n",
       "      <td>3097</td>\n",
       "      <td>0</td>\n",
       "      <td>804.96</td>\n",
       "      <td>0</td>\n",
       "      <td>0</td>\n",
       "      <td>305018.871089</td>\n",
       "      <td>0</td>\n",
       "      <td>NaN</td>\n",
       "    </tr>\n",
       "    <tr>\n",
       "      <th>1</th>\n",
       "      <td>3013</td>\n",
       "      <td>22</td>\n",
       "      <td>1.0</td>\n",
       "      <td>39.832524</td>\n",
       "      <td>8.0</td>\n",
       "      <td>7</td>\n",
       "      <td>8.0</td>\n",
       "      <td>1966</td>\n",
       "      <td>0.118537</td>\n",
       "      <td>30</td>\n",
       "      <td>6207</td>\n",
       "      <td>1</td>\n",
       "      <td>1183.00</td>\n",
       "      <td>1</td>\n",
       "      <td>0</td>\n",
       "      <td>177734.553407</td>\n",
       "      <td>1</td>\n",
       "      <td>23.169223</td>\n",
       "    </tr>\n",
       "    <tr>\n",
       "      <th>2</th>\n",
       "      <td>8215</td>\n",
       "      <td>1</td>\n",
       "      <td>3.0</td>\n",
       "      <td>78.342215</td>\n",
       "      <td>10.0</td>\n",
       "      <td>2</td>\n",
       "      <td>17.0</td>\n",
       "      <td>1988</td>\n",
       "      <td>0.025609</td>\n",
       "      <td>33</td>\n",
       "      <td>5261</td>\n",
       "      <td>0</td>\n",
       "      <td>240.00</td>\n",
       "      <td>3</td>\n",
       "      <td>1</td>\n",
       "      <td>282078.720850</td>\n",
       "      <td>2</td>\n",
       "      <td>47.671972</td>\n",
       "    </tr>\n",
       "    <tr>\n",
       "      <th>3</th>\n",
       "      <td>2352</td>\n",
       "      <td>1</td>\n",
       "      <td>1.0</td>\n",
       "      <td>40.409907</td>\n",
       "      <td>1.0</td>\n",
       "      <td>10</td>\n",
       "      <td>22.0</td>\n",
       "      <td>1977</td>\n",
       "      <td>0.007122</td>\n",
       "      <td>1</td>\n",
       "      <td>264</td>\n",
       "      <td>0</td>\n",
       "      <td>412.34</td>\n",
       "      <td>0</td>\n",
       "      <td>1</td>\n",
       "      <td>168106.007630</td>\n",
       "      <td>3</td>\n",
       "      <td>NaN</td>\n",
       "    </tr>\n",
       "    <tr>\n",
       "      <th>4</th>\n",
       "      <td>13866</td>\n",
       "      <td>94</td>\n",
       "      <td>2.0</td>\n",
       "      <td>64.285067</td>\n",
       "      <td>9.0</td>\n",
       "      <td>16</td>\n",
       "      <td>16.0</td>\n",
       "      <td>1972</td>\n",
       "      <td>0.282798</td>\n",
       "      <td>33</td>\n",
       "      <td>8667</td>\n",
       "      <td>2</td>\n",
       "      <td>2059.60</td>\n",
       "      <td>0</td>\n",
       "      <td>6</td>\n",
       "      <td>343995.102962</td>\n",
       "      <td>4</td>\n",
       "      <td>38.562517</td>\n",
       "    </tr>\n",
       "  </tbody>\n",
       "</table>\n",
       "</div>"
      ],
      "text/plain": [
       "      Id DistrictId  Rooms      Square  KitchenSquare  Floor  HouseFloor  \\\n",
       "0  11809         27    3.0  115.027311           10.0      4        10.0   \n",
       "1   3013         22    1.0   39.832524            8.0      7         8.0   \n",
       "2   8215          1    3.0   78.342215           10.0      2        17.0   \n",
       "3   2352          1    1.0   40.409907            1.0     10        22.0   \n",
       "4  13866         94    2.0   64.285067            9.0     16        16.0   \n",
       "\n",
       "   HouseYear  Ecology_1  Social_1  Social_2  Social_3  Healthcare_1  \\\n",
       "0       2014   0.075424        11      3097         0        804.96   \n",
       "1       1966   0.118537        30      6207         1       1183.00   \n",
       "2       1988   0.025609        33      5261         0        240.00   \n",
       "3       1977   0.007122         1       264         0        412.34   \n",
       "4       1972   0.282798        33      8667         2       2059.60   \n",
       "\n",
       "   Helthcare_2  Shops_1          Price  0  LifeSquare  \n",
       "0            0        0  305018.871089  0         NaN  \n",
       "1            1        0  177734.553407  1   23.169223  \n",
       "2            3        1  282078.720850  2   47.671972  \n",
       "3            0        1  168106.007630  3         NaN  \n",
       "4            0        6  343995.102962  4   38.562517  "
      ]
     },
     "execution_count": 120,
     "metadata": {},
     "output_type": "execute_result"
    }
   ],
   "source": [
    "train_df2.head()"
   ]
  },
  {
   "cell_type": "code",
   "execution_count": 125,
   "id": "f787d70e",
   "metadata": {},
   "outputs": [
    {
     "data": {
      "text/html": [
       "<div>\n",
       "<style scoped>\n",
       "    .dataframe tbody tr th:only-of-type {\n",
       "        vertical-align: middle;\n",
       "    }\n",
       "\n",
       "    .dataframe tbody tr th {\n",
       "        vertical-align: top;\n",
       "    }\n",
       "\n",
       "    .dataframe thead th {\n",
       "        text-align: right;\n",
       "    }\n",
       "</style>\n",
       "<table border=\"1\" class=\"dataframe\">\n",
       "  <thead>\n",
       "    <tr style=\"text-align: right;\">\n",
       "      <th></th>\n",
       "      <th>Rooms</th>\n",
       "      <th>HouseYear</th>\n",
       "      <th>LifeSquare</th>\n",
       "    </tr>\n",
       "  </thead>\n",
       "  <tbody>\n",
       "    <tr>\n",
       "      <th>0</th>\n",
       "      <td>0.0</td>\n",
       "      <td>1977</td>\n",
       "      <td>42.999309</td>\n",
       "    </tr>\n",
       "    <tr>\n",
       "      <th>1</th>\n",
       "      <td>0.0</td>\n",
       "      <td>1982</td>\n",
       "      <td>19.345131</td>\n",
       "    </tr>\n",
       "    <tr>\n",
       "      <th>2</th>\n",
       "      <td>0.0</td>\n",
       "      <td>2008</td>\n",
       "      <td>211.231125</td>\n",
       "    </tr>\n",
       "    <tr>\n",
       "      <th>3</th>\n",
       "      <td>0.0</td>\n",
       "      <td>2015</td>\n",
       "      <td>NaN</td>\n",
       "    </tr>\n",
       "    <tr>\n",
       "      <th>4</th>\n",
       "      <td>0.0</td>\n",
       "      <td>2016</td>\n",
       "      <td>136.215499</td>\n",
       "    </tr>\n",
       "    <tr>\n",
       "      <th>...</th>\n",
       "      <td>...</td>\n",
       "      <td>...</td>\n",
       "      <td>...</td>\n",
       "    </tr>\n",
       "    <tr>\n",
       "      <th>330</th>\n",
       "      <td>5.0</td>\n",
       "      <td>2017</td>\n",
       "      <td>81.122369</td>\n",
       "    </tr>\n",
       "    <tr>\n",
       "      <th>331</th>\n",
       "      <td>6.0</td>\n",
       "      <td>1969</td>\n",
       "      <td>38.702244</td>\n",
       "    </tr>\n",
       "    <tr>\n",
       "      <th>332</th>\n",
       "      <td>10.0</td>\n",
       "      <td>1994</td>\n",
       "      <td>38.420681</td>\n",
       "    </tr>\n",
       "    <tr>\n",
       "      <th>333</th>\n",
       "      <td>10.0</td>\n",
       "      <td>2002</td>\n",
       "      <td>36.223072</td>\n",
       "    </tr>\n",
       "    <tr>\n",
       "      <th>334</th>\n",
       "      <td>19.0</td>\n",
       "      <td>2014</td>\n",
       "      <td>21.779288</td>\n",
       "    </tr>\n",
       "  </tbody>\n",
       "</table>\n",
       "<p>335 rows × 3 columns</p>\n",
       "</div>"
      ],
      "text/plain": [
       "     Rooms  HouseYear  LifeSquare\n",
       "0      0.0       1977   42.999309\n",
       "1      0.0       1982   19.345131\n",
       "2      0.0       2008  211.231125\n",
       "3      0.0       2015         NaN\n",
       "4      0.0       2016  136.215499\n",
       "..     ...        ...         ...\n",
       "330    5.0       2017   81.122369\n",
       "331    6.0       1969   38.702244\n",
       "332   10.0       1994   38.420681\n",
       "333   10.0       2002   36.223072\n",
       "334   19.0       2014   21.779288\n",
       "\n",
       "[335 rows x 3 columns]"
      ]
     },
     "execution_count": 125,
     "metadata": {},
     "output_type": "execute_result"
    }
   ],
   "source": [
    "train_df2.groupby(['Rooms', 'HouseYear'])['LifeSquare'].mean().reset_index()"
   ]
  },
  {
   "cell_type": "code",
   "execution_count": 127,
   "id": "f71228f7",
   "metadata": {},
   "outputs": [],
   "source": [
    "train_df3 = train_df2.copy()"
   ]
  },
  {
   "cell_type": "code",
   "execution_count": 129,
   "id": "e7015c2d",
   "metadata": {},
   "outputs": [],
   "source": [
    "train_df3['LifeSquare'] = train_df3['LifeSquare'].fillna(train_df3['LifeSquare'].median())"
   ]
  },
  {
   "cell_type": "markdown",
   "id": "46940ee6",
   "metadata": {},
   "source": [
    "**Пропуски заполнены.**"
   ]
  },
  {
   "cell_type": "code",
   "execution_count": 133,
   "id": "5dab783b",
   "metadata": {},
   "outputs": [
    {
     "data": {
      "text/plain": [
       "Id               0\n",
       "DistrictId       0\n",
       "Rooms            0\n",
       "Square           0\n",
       "KitchenSquare    0\n",
       "Floor            0\n",
       "HouseFloor       0\n",
       "HouseYear        0\n",
       "Ecology_1        0\n",
       "Social_1         0\n",
       "Social_2         0\n",
       "Social_3         0\n",
       "Healthcare_1     0\n",
       "Helthcare_2      0\n",
       "Shops_1          0\n",
       "Price            0\n",
       "0                0\n",
       "LifeSquare       0\n",
       "dtype: int64"
      ]
     },
     "execution_count": 133,
     "metadata": {},
     "output_type": "execute_result"
    }
   ],
   "source": [
    "train_df3.isnull().sum()"
   ]
  },
  {
   "cell_type": "markdown",
   "id": "f2068824",
   "metadata": {},
   "source": [
    "## Основная часть проекта"
   ]
  },
  {
   "cell_type": "code",
   "execution_count": 146,
   "id": "dd57913a",
   "metadata": {},
   "outputs": [],
   "source": [
    "# определим функцию, которая будет выводить наши метрики\n",
    "def print_all_metrics(y_true, y_pred, y_proba, title='Метрики классификации'):\n",
    "    print(title)\n",
    "    print('\\tAccuracy: {:.2f}'.fohttp://localhost:8890/notebooks/YandexDisk/%D0%9A%D1%83%D1%80%D1%81%D1%8B/GeekBrains/%D0%92%D1%8B%D0%BF%D1%83%D1%81%D0%BA%D0%BD%D0%BE%D0%B9%D0%9F%D1%80%D0%BE%D0%B5%D0%BA%D1%82/Proect.ipynb#%D0%9C%D0%BE%D0%B4%D0%B5%D0%BB%D1%8C-1-LifeSquare-%D0%B7%D0%B0%D0%BF%D0%BE%D0%BB%D0%BD%D0%B5%D0%BD%D0%BE-%D0%BC%D0%B5%D0%B4%D0%B8%D0%B0%D0%BD%D0%BE%D0%B9rmat(accuracy_score(y_true, y_pred)))\n",
    "    print('\\tPrecision: {:.2f}'.format(precision_score(y_true, y_pred)))\n",
    "    print('\\tRecall: {:.2f}'.format(recall_score(y_true, y_pred)))\n",
    "    print('\\tF1: {:.2f}'.format(f1_score(y_true, y_pred)))\n",
    "    print('\\tROC_AUC: {:.2f}'.format(roc_auc_score(y_true, y_proba)))"
   ]
  },
  {
   "cell_type": "code",
   "execution_count": 134,
   "id": "76a02e27",
   "metadata": {},
   "outputs": [],
   "source": [
    "train_df3 = train_df3.drop(columns=['0'])"
   ]
  },
  {
   "cell_type": "markdown",
   "id": "ce2c2acc",
   "metadata": {},
   "source": [
    "### Модель 1 LifeSquare заполнено медианой"
   ]
  },
  {
   "cell_type": "code",
   "execution_count": 148,
   "id": "621092e5",
   "metadata": {},
   "outputs": [],
   "source": [
    "# разделите наши данные на признаки (матрица X) и целевую переменную (y)\n",
    "X = train_df3.drop(['Price'], axis=1) # сохраните в переменной матрицу объекты-признаки, удалив из датафрейма колонку с целевой переменной\n",
    "y = train_df3['Price'] # сохраните в переменной колонку со значением целевой переменной\n",
    "\n",
    "# делим модель на обучающую и валидационную выборку\n",
    "X_train, X_valid, y_train, y_valid = train_test_split(X, y, test_size=0.3, shuffle=True, random_state=21)\n"
   ]
  },
  {
   "cell_type": "code",
   "execution_count": 149,
   "id": "a97687c3",
   "metadata": {},
   "outputs": [
    {
     "data": {
      "text/plain": [
       "RandomForestRegressor(random_state=21)"
      ]
     },
     "execution_count": 149,
     "metadata": {},
     "output_type": "execute_result"
    }
   ],
   "source": [
    "rf_model = RandomForestRegressor(random_state=21, criterion='mse')\n",
    "rf_model.fit(X_train, y_train)"
   ]
  },
  {
   "cell_type": "code",
   "execution_count": 150,
   "id": "d1bfce7c",
   "metadata": {},
   "outputs": [],
   "source": [
    "y_train_preds = rf_model.predict(X_train) # тренеровочное предсказание\n",
    "y_test_preds = rf_model.predict(X_valid) # предсказание на "
   ]
  },
  {
   "cell_type": "code",
   "execution_count": 151,
   "id": "48c875b6",
   "metadata": {},
   "outputs": [
    {
     "name": "stdout",
     "output_type": "stream",
     "text": [
      "Train R2:\t0.96\n",
      "Test R2:\t0.739\n"
     ]
    },
    {
     "data": {
      "image/png": "[encoded data removed]",
      "text/plain": [
       "<Figure size 1296x720 with 2 Axes>"
      ]
     },
     "metadata": {
      "needs_background": "light"
     },
     "output_type": "display_data"
    }
   ],
   "source": [
    "evaluate_preds(y_train, y_train_preds, y_valid, y_test_preds)"
   ]
  },
  {
   "cell_type": "markdown",
   "id": "60b3c5aa",
   "metadata": {},
   "source": [
    "### Модель 1 LifeSquare заполнено 0"
   ]
  },
  {
   "cell_type": "code",
   "execution_count": 155,
   "id": "6e094e2a",
   "metadata": {},
   "outputs": [],
   "source": [
    "train_df3 = train_df2.copy()\n",
    "train_df3 = train_df3.drop(columns=['0'])\n",
    "train_df3['LifeSquare'] = train_df3['LifeSquare'].fillna(0)"
   ]
  },
  {
   "cell_type": "code",
   "execution_count": 156,
   "id": "02651fe6",
   "metadata": {},
   "outputs": [],
   "source": [
    "# разделите наши данные на признаки (матрица X) и целевую переменную (y)\n",
    "X = train_df3.drop(['Price'], axis=1) # сохраните в переменной матрицу объекты-признаки, удалив из датафрейма колонку с целевой переменной\n",
    "y = train_df3['Price'] # сохраните в переменной колонку со значением целевой переменной\n",
    "\n",
    "# делим модель на обучающую и валидационную выборку\n",
    "X_train, X_valid, y_train, y_valid = train_test_split(X, y, test_size=0.3, shuffle=True, random_state=21)"
   ]
  },
  {
   "cell_type": "code",
   "execution_count": 157,
   "id": "6bd00573",
   "metadata": {},
   "outputs": [
    {
     "data": {
      "text/plain": [
       "RandomForestRegressor(random_state=21)"
      ]
     },
     "execution_count": 157,
     "metadata": {},
     "output_type": "execute_result"
    }
   ],
   "source": [
    "rf_model = RandomForestRegressor(random_state=21, criterion='mse')\n",
    "rf_model.fit(X_train, y_train)"
   ]
  },
  {
   "cell_type": "code",
   "execution_count": 158,
   "id": "bd8671ba",
   "metadata": {},
   "outputs": [],
   "source": [
    "y_train_preds = rf_model.predict(X_train) # тренеровочное предсказание\n",
    "y_test_preds = rf_model.predict(X_valid) # предсказание на "
   ]
  },
  {
   "cell_type": "code",
   "execution_count": 159,
   "id": "82240545",
   "metadata": {},
   "outputs": [
    {
     "name": "stdout",
     "output_type": "stream",
     "text": [
      "Train R2:\t0.96\n",
      "Test R2:\t0.739\n"
     ]
    },
    {
     "data": {
      "image/png": "[encoded data removed]",
      "text/plain": [
       "<Figure size 1296x720 with 2 Axes>"
      ]
     },
     "metadata": {
      "needs_background": "light"
     },
     "output_type": "display_data"
    }
   ],
   "source": [
    "evaluate_preds(y_train, y_train_preds, y_valid, y_test_preds)"
   ]
  },
  {
   "cell_type": "code",
   "execution_count": 160,
   "id": "4afc5f33",
   "metadata": {},
   "outputs": [],
   "source": [
    "### Модель 1 LifeSquare заполнено "
   ]
  },
  {
   "cell_type": "markdown",
   "id": "1c9da177",
   "metadata": {},
   "source": [
    "**Описание датасета**\n",
    "\n",
    "- `Id` - идентификационный номер квартиры\n",
    "- `DistrictId` - идентификационный номер района\n",
    "- `Rooms` - количество комнат\n",
    "- `Square` - площадь\n",
    "- `LifeSquare` - жилая площадь\n",
    "- `KitchenSquare` - площадь кухни\n",
    "- `Floor` - этаж\n",
    "- `HouseFloor` - количество этажей в доме\n",
    "- `HouseYear` - год постройки дома\n",
    "- `Ecology_1, Ecology_2, Ecology_3` - экологические показатели местности\n",
    "- `Social_1, Social_2, Social_3` - социальные показатели местности\n",
    "- `Healthcare_1, Helthcare_2` - показатели местности, связанные с охраной здоровья\n",
    "- `Shops_1, Shops_2` - показатели, связанные с наличием магазинов, торговых центров\n",
    "- `Price` - цена квартиры"
   ]
  },
  {
   "cell_type": "code",
   "execution_count": 162,
   "id": "0849fa5c",
   "metadata": {},
   "outputs": [
    {
     "data": {
      "text/html": [
       "<div>\n",
       "<style scoped>\n",
       "    .dataframe tbody tr th:only-of-type {\n",
       "        vertical-align: middle;\n",
       "    }\n",
       "\n",
       "    .dataframe tbody tr th {\n",
       "        vertical-align: top;\n",
       "    }\n",
       "\n",
       "    .dataframe thead th {\n",
       "        text-align: right;\n",
       "    }\n",
       "</style>\n",
       "<table border=\"1\" class=\"dataframe\">\n",
       "  <thead>\n",
       "    <tr style=\"text-align: right;\">\n",
       "      <th></th>\n",
       "      <th>Id</th>\n",
       "      <th>DistrictId</th>\n",
       "      <th>Rooms</th>\n",
       "      <th>Square</th>\n",
       "      <th>KitchenSquare</th>\n",
       "      <th>Floor</th>\n",
       "      <th>HouseFloor</th>\n",
       "      <th>HouseYear</th>\n",
       "      <th>Ecology_1</th>\n",
       "      <th>Social_1</th>\n",
       "      <th>Social_2</th>\n",
       "      <th>Social_3</th>\n",
       "      <th>Healthcare_1</th>\n",
       "      <th>Helthcare_2</th>\n",
       "      <th>Shops_1</th>\n",
       "      <th>Price</th>\n",
       "      <th>0</th>\n",
       "      <th>LifeSquare</th>\n",
       "    </tr>\n",
       "  </thead>\n",
       "  <tbody>\n",
       "    <tr>\n",
       "      <th>0</th>\n",
       "      <td>11809</td>\n",
       "      <td>27</td>\n",
       "      <td>3.0</td>\n",
       "      <td>115.027311</td>\n",
       "      <td>10.0</td>\n",
       "      <td>4</td>\n",
       "      <td>10.0</td>\n",
       "      <td>2014</td>\n",
       "      <td>0.075424</td>\n",
       "      <td>11</td>\n",
       "      <td>3097</td>\n",
       "      <td>0</td>\n",
       "      <td>804.96</td>\n",
       "      <td>0</td>\n",
       "      <td>0</td>\n",
       "      <td>305018.871089</td>\n",
       "      <td>0</td>\n",
       "      <td>NaN</td>\n",
       "    </tr>\n",
       "    <tr>\n",
       "      <th>1</th>\n",
       "      <td>3013</td>\n",
       "      <td>22</td>\n",
       "      <td>1.0</td>\n",
       "      <td>39.832524</td>\n",
       "      <td>8.0</td>\n",
       "      <td>7</td>\n",
       "      <td>8.0</td>\n",
       "      <td>1966</td>\n",
       "      <td>0.118537</td>\n",
       "      <td>30</td>\n",
       "      <td>6207</td>\n",
       "      <td>1</td>\n",
       "      <td>1183.00</td>\n",
       "      <td>1</td>\n",
       "      <td>0</td>\n",
       "      <td>177734.553407</td>\n",
       "      <td>1</td>\n",
       "      <td>23.169223</td>\n",
       "    </tr>\n",
       "    <tr>\n",
       "      <th>2</th>\n",
       "      <td>8215</td>\n",
       "      <td>1</td>\n",
       "      <td>3.0</td>\n",
       "      <td>78.342215</td>\n",
       "      <td>10.0</td>\n",
       "      <td>2</td>\n",
       "      <td>17.0</td>\n",
       "      <td>1988</td>\n",
       "      <td>0.025609</td>\n",
       "      <td>33</td>\n",
       "      <td>5261</td>\n",
       "      <td>0</td>\n",
       "      <td>240.00</td>\n",
       "      <td>3</td>\n",
       "      <td>1</td>\n",
       "      <td>282078.720850</td>\n",
       "      <td>2</td>\n",
       "      <td>47.671972</td>\n",
       "    </tr>\n",
       "    <tr>\n",
       "      <th>3</th>\n",
       "      <td>2352</td>\n",
       "      <td>1</td>\n",
       "      <td>1.0</td>\n",
       "      <td>40.409907</td>\n",
       "      <td>1.0</td>\n",
       "      <td>10</td>\n",
       "      <td>22.0</td>\n",
       "      <td>1977</td>\n",
       "      <td>0.007122</td>\n",
       "      <td>1</td>\n",
       "      <td>264</td>\n",
       "      <td>0</td>\n",
       "      <td>412.34</td>\n",
       "      <td>0</td>\n",
       "      <td>1</td>\n",
       "      <td>168106.007630</td>\n",
       "      <td>3</td>\n",
       "      <td>NaN</td>\n",
       "    </tr>\n",
       "    <tr>\n",
       "      <th>4</th>\n",
       "      <td>13866</td>\n",
       "      <td>94</td>\n",
       "      <td>2.0</td>\n",
       "      <td>64.285067</td>\n",
       "      <td>9.0</td>\n",
       "      <td>16</td>\n",
       "      <td>16.0</td>\n",
       "      <td>1972</td>\n",
       "      <td>0.282798</td>\n",
       "      <td>33</td>\n",
       "      <td>8667</td>\n",
       "      <td>2</td>\n",
       "      <td>2059.60</td>\n",
       "      <td>0</td>\n",
       "      <td>6</td>\n",
       "      <td>343995.102962</td>\n",
       "      <td>4</td>\n",
       "      <td>38.562517</td>\n",
       "    </tr>\n",
       "  </tbody>\n",
       "</table>\n",
       "</div>"
      ],
      "text/plain": [
       "      Id DistrictId  Rooms      Square  KitchenSquare  Floor  HouseFloor  \\\n",
       "0  11809         27    3.0  115.027311           10.0      4        10.0   \n",
       "1   3013         22    1.0   39.832524            8.0      7         8.0   \n",
       "2   8215          1    3.0   78.342215           10.0      2        17.0   \n",
       "3   2352          1    1.0   40.409907            1.0     10        22.0   \n",
       "4  13866         94    2.0   64.285067            9.0     16        16.0   \n",
       "\n",
       "   HouseYear  Ecology_1  Social_1  Social_2  Social_3  Healthcare_1  \\\n",
       "0       2014   0.075424        11      3097         0        804.96   \n",
       "1       1966   0.118537        30      6207         1       1183.00   \n",
       "2       1988   0.025609        33      5261         0        240.00   \n",
       "3       1977   0.007122         1       264         0        412.34   \n",
       "4       1972   0.282798        33      8667         2       2059.60   \n",
       "\n",
       "   Helthcare_2  Shops_1          Price  0  LifeSquare  \n",
       "0            0        0  305018.871089  0         NaN  \n",
       "1            1        0  177734.553407  1   23.169223  \n",
       "2            3        1  282078.720850  2   47.671972  \n",
       "3            0        1  168106.007630  3         NaN  \n",
       "4            0        6  343995.102962  4   38.562517  "
      ]
     },
     "execution_count": 162,
     "metadata": {},
     "output_type": "execute_result"
    }
   ],
   "source": [
    "train_df2.head()"
   ]
  },
  {
   "cell_type": "code",
   "execution_count": 197,
   "id": "b7fe923c",
   "metadata": {},
   "outputs": [
    {
     "name": "stdout",
     "output_type": "stream",
     "text": [
      "<class 'pandas.core.frame.DataFrame'>\n",
      "RangeIndex: 5000 entries, 0 to 4999\n",
      "Data columns (total 19 columns):\n",
      " #   Column         Non-Null Count  Dtype  \n",
      "---  ------         --------------  -----  \n",
      " 0   Id             5000 non-null   int64  \n",
      " 1   DistrictId     5000 non-null   int64  \n",
      " 2   Rooms          5000 non-null   float64\n",
      " 3   Square         5000 non-null   float64\n",
      " 4   LifeSquare     3959 non-null   float64\n",
      " 5   KitchenSquare  5000 non-null   float64\n",
      " 6   Floor          5000 non-null   int64  \n",
      " 7   HouseFloor     5000 non-null   float64\n",
      " 8   HouseYear      5000 non-null   int64  \n",
      " 9   Ecology_1      5000 non-null   float64\n",
      " 10  Ecology_2      5000 non-null   object \n",
      " 11  Ecology_3      5000 non-null   object \n",
      " 12  Social_1       5000 non-null   int64  \n",
      " 13  Social_2       5000 non-null   int64  \n",
      " 14  Social_3       5000 non-null   int64  \n",
      " 15  Healthcare_1   2623 non-null   float64\n",
      " 16  Helthcare_2    5000 non-null   int64  \n",
      " 17  Shops_1        5000 non-null   int64  \n",
      " 18  Shops_2        5000 non-null   object \n",
      "dtypes: float64(7), int64(9), object(3)\n",
      "memory usage: 742.3+ KB\n"
     ]
    }
   ],
   "source": [
    "test_df = pd.read_csv('test.csv')\n",
    "test_df.info()"
   ]
  },
  {
   "cell_type": "code",
   "execution_count": 198,
   "id": "595e5807",
   "metadata": {},
   "outputs": [],
   "source": [
    "train2 = test_df.copy()\n",
    "train2['0'] = [x for x in range(len(train2))]\n",
    "df_drop = train2[[target_name_ls, '0']]\n",
    "train2.drop([target_name_ls], axis=1, inplace=True)\n",
    "\n",
    "train2['nan'] = 0\n",
    "train2.loc[train2[target_name_h].isna(), 'nan'] = 1\n",
    "\n",
    "df_test = train2[train2['nan'] == 1]"
   ]
  },
  {
   "cell_type": "code",
   "execution_count": 200,
   "id": "2c80525c",
   "metadata": {},
   "outputs": [
    {
     "data": {
      "text/html": [
       "<div>\n",
       "<style scoped>\n",
       "    .dataframe tbody tr th:only-of-type {\n",
       "        vertical-align: middle;\n",
       "    }\n",
       "\n",
       "    .dataframe tbody tr th {\n",
       "        vertical-align: top;\n",
       "    }\n",
       "\n",
       "    .dataframe thead th {\n",
       "        text-align: right;\n",
       "    }\n",
       "</style>\n",
       "<table border=\"1\" class=\"dataframe\">\n",
       "  <thead>\n",
       "    <tr style=\"text-align: right;\">\n",
       "      <th></th>\n",
       "      <th>Id</th>\n",
       "      <th>DistrictId</th>\n",
       "      <th>Rooms</th>\n",
       "      <th>Square</th>\n",
       "      <th>KitchenSquare</th>\n",
       "      <th>Floor</th>\n",
       "      <th>HouseFloor</th>\n",
       "      <th>HouseYear</th>\n",
       "      <th>Ecology_1</th>\n",
       "      <th>Ecology_2</th>\n",
       "      <th>Ecology_3</th>\n",
       "      <th>Social_1</th>\n",
       "      <th>Social_2</th>\n",
       "      <th>Social_3</th>\n",
       "      <th>Healthcare_1</th>\n",
       "      <th>Helthcare_2</th>\n",
       "      <th>Shops_1</th>\n",
       "      <th>Shops_2</th>\n",
       "      <th>0</th>\n",
       "      <th>nan</th>\n",
       "    </tr>\n",
       "  </thead>\n",
       "  <tbody>\n",
       "    <tr>\n",
       "      <th>1</th>\n",
       "      <td>5925</td>\n",
       "      <td>62</td>\n",
       "      <td>1.0</td>\n",
       "      <td>42.493907</td>\n",
       "      <td>10.0</td>\n",
       "      <td>7</td>\n",
       "      <td>17.0</td>\n",
       "      <td>2017</td>\n",
       "      <td>0.072158</td>\n",
       "      <td>B</td>\n",
       "      <td>B</td>\n",
       "      <td>2</td>\n",
       "      <td>629</td>\n",
       "      <td>1</td>\n",
       "      <td>NaN</td>\n",
       "      <td>0</td>\n",
       "      <td>0</td>\n",
       "      <td>A</td>\n",
       "      <td>1</td>\n",
       "      <td>1</td>\n",
       "    </tr>\n",
       "    <tr>\n",
       "      <th>2</th>\n",
       "      <td>960</td>\n",
       "      <td>27</td>\n",
       "      <td>2.0</td>\n",
       "      <td>59.463678</td>\n",
       "      <td>9.0</td>\n",
       "      <td>19</td>\n",
       "      <td>19.0</td>\n",
       "      <td>1977</td>\n",
       "      <td>0.211401</td>\n",
       "      <td>B</td>\n",
       "      <td>B</td>\n",
       "      <td>9</td>\n",
       "      <td>1892</td>\n",
       "      <td>0</td>\n",
       "      <td>NaN</td>\n",
       "      <td>0</td>\n",
       "      <td>1</td>\n",
       "      <td>B</td>\n",
       "      <td>2</td>\n",
       "      <td>1</td>\n",
       "    </tr>\n",
       "    <tr>\n",
       "      <th>3</th>\n",
       "      <td>3848</td>\n",
       "      <td>23</td>\n",
       "      <td>3.0</td>\n",
       "      <td>49.646030</td>\n",
       "      <td>6.0</td>\n",
       "      <td>2</td>\n",
       "      <td>2.0</td>\n",
       "      <td>1965</td>\n",
       "      <td>0.014073</td>\n",
       "      <td>B</td>\n",
       "      <td>B</td>\n",
       "      <td>2</td>\n",
       "      <td>475</td>\n",
       "      <td>0</td>\n",
       "      <td>NaN</td>\n",
       "      <td>0</td>\n",
       "      <td>0</td>\n",
       "      <td>B</td>\n",
       "      <td>3</td>\n",
       "      <td>1</td>\n",
       "    </tr>\n",
       "    <tr>\n",
       "      <th>6</th>\n",
       "      <td>672</td>\n",
       "      <td>62</td>\n",
       "      <td>1.0</td>\n",
       "      <td>46.269456</td>\n",
       "      <td>11.0</td>\n",
       "      <td>8</td>\n",
       "      <td>17.0</td>\n",
       "      <td>2014</td>\n",
       "      <td>0.072158</td>\n",
       "      <td>B</td>\n",
       "      <td>B</td>\n",
       "      <td>2</td>\n",
       "      <td>629</td>\n",
       "      <td>1</td>\n",
       "      <td>NaN</td>\n",
       "      <td>0</td>\n",
       "      <td>0</td>\n",
       "      <td>A</td>\n",
       "      <td>6</td>\n",
       "      <td>1</td>\n",
       "    </tr>\n",
       "    <tr>\n",
       "      <th>7</th>\n",
       "      <td>2471</td>\n",
       "      <td>2</td>\n",
       "      <td>2.0</td>\n",
       "      <td>48.172969</td>\n",
       "      <td>6.0</td>\n",
       "      <td>4</td>\n",
       "      <td>9.0</td>\n",
       "      <td>1974</td>\n",
       "      <td>0.000000</td>\n",
       "      <td>B</td>\n",
       "      <td>B</td>\n",
       "      <td>33</td>\n",
       "      <td>7425</td>\n",
       "      <td>1</td>\n",
       "      <td>NaN</td>\n",
       "      <td>2</td>\n",
       "      <td>5</td>\n",
       "      <td>B</td>\n",
       "      <td>7</td>\n",
       "      <td>1</td>\n",
       "    </tr>\n",
       "  </tbody>\n",
       "</table>\n",
       "</div>"
      ],
      "text/plain": [
       "     Id  DistrictId  Rooms     Square  KitchenSquare  Floor  HouseFloor  \\\n",
       "1  5925          62    1.0  42.493907           10.0      7        17.0   \n",
       "2   960          27    2.0  59.463678            9.0     19        19.0   \n",
       "3  3848          23    3.0  49.646030            6.0      2         2.0   \n",
       "6   672          62    1.0  46.269456           11.0      8        17.0   \n",
       "7  2471           2    2.0  48.172969            6.0      4         9.0   \n",
       "\n",
       "   HouseYear  Ecology_1 Ecology_2 Ecology_3  Social_1  Social_2  Social_3  \\\n",
       "1       2017   0.072158         B         B         2       629         1   \n",
       "2       1977   0.211401         B         B         9      1892         0   \n",
       "3       1965   0.014073         B         B         2       475         0   \n",
       "6       2014   0.072158         B         B         2       629         1   \n",
       "7       1974   0.000000         B         B        33      7425         1   \n",
       "\n",
       "   Healthcare_1  Helthcare_2  Shops_1 Shops_2  0  nan  \n",
       "1           NaN            0        0       A  1    1  \n",
       "2           NaN            0        1       B  2    1  \n",
       "3           NaN            0        0       B  3    1  \n",
       "6           NaN            0        0       A  6    1  \n",
       "7           NaN            2        5       B  7    1  "
      ]
     },
     "execution_count": 200,
     "metadata": {},
     "output_type": "execute_result"
    }
   ],
   "source": [
    "df_test.head()"
   ]
  },
  {
   "cell_type": "code",
   "execution_count": 199,
   "id": "47edcc0c",
   "metadata": {},
   "outputs": [
    {
     "ename": "KeyError",
     "evalue": "'nan'",
     "output_type": "error",
     "traceback": [
      "\u001b[1;31m---------------------------------------------------------------------------\u001b[0m",
      "\u001b[1;31mKeyError\u001b[0m                                  Traceback (most recent call last)",
      "\u001b[1;32mC:\\ProgramData\\Anaconda3\\lib\\site-packages\\pandas\\core\\indexes\\base.py\u001b[0m in \u001b[0;36mget_loc\u001b[1;34m(self, key, method, tolerance)\u001b[0m\n\u001b[0;32m   3360\u001b[0m             \u001b[1;32mtry\u001b[0m\u001b[1;33m:\u001b[0m\u001b[1;33m\u001b[0m\u001b[1;33m\u001b[0m\u001b[0m\n\u001b[1;32m-> 3361\u001b[1;33m                 \u001b[1;32mreturn\u001b[0m \u001b[0mself\u001b[0m\u001b[1;33m.\u001b[0m\u001b[0m_engine\u001b[0m\u001b[1;33m.\u001b[0m\u001b[0mget_loc\u001b[0m\u001b[1;33m(\u001b[0m\u001b[0mcasted_key\u001b[0m\u001b[1;33m)\u001b[0m\u001b[1;33m\u001b[0m\u001b[1;33m\u001b[0m\u001b[0m\n\u001b[0m\u001b[0;32m   3362\u001b[0m             \u001b[1;32mexcept\u001b[0m \u001b[0mKeyError\u001b[0m \u001b[1;32mas\u001b[0m \u001b[0merr\u001b[0m\u001b[1;33m:\u001b[0m\u001b[1;33m\u001b[0m\u001b[1;33m\u001b[0m\u001b[0m\n",
      "\u001b[1;32mC:\\ProgramData\\Anaconda3\\lib\\site-packages\\pandas\\_libs\\index.pyx\u001b[0m in \u001b[0;36mpandas._libs.index.IndexEngine.get_loc\u001b[1;34m()\u001b[0m\n",
      "\u001b[1;32mC:\\ProgramData\\Anaconda3\\lib\\site-packages\\pandas\\_libs\\index.pyx\u001b[0m in \u001b[0;36mpandas._libs.index.IndexEngine.get_loc\u001b[1;34m()\u001b[0m\n",
      "\u001b[1;32mpandas\\_libs\\hashtable_class_helper.pxi\u001b[0m in \u001b[0;36mpandas._libs.hashtable.PyObjectHashTable.get_item\u001b[1;34m()\u001b[0m\n",
      "\u001b[1;32mpandas\\_libs\\hashtable_class_helper.pxi\u001b[0m in \u001b[0;36mpandas._libs.hashtable.PyObjectHashTable.get_item\u001b[1;34m()\u001b[0m\n",
      "\u001b[1;31mKeyError\u001b[0m: 'nan'",
      "\nThe above exception was the direct cause of the following exception:\n",
      "\u001b[1;31mKeyError\u001b[0m                                  Traceback (most recent call last)",
      "\u001b[1;32m~\\AppData\\Local\\Temp/ipykernel_10264/1075002216.py\u001b[0m in \u001b[0;36m<module>\u001b[1;34m\u001b[0m\n\u001b[1;32m----> 1\u001b[1;33m \u001b[0mfilling_atribute\u001b[0m\u001b[1;33m(\u001b[0m\u001b[0mtarget_name_h\u001b[0m\u001b[1;33m,\u001b[0m \u001b[0mtarget_name_ls\u001b[0m\u001b[1;33m,\u001b[0m \u001b[0mrf_model\u001b[0m\u001b[1;33m,\u001b[0m \u001b[0mtest_df\u001b[0m\u001b[1;33m)\u001b[0m\u001b[1;33m\u001b[0m\u001b[1;33m\u001b[0m\u001b[0m\n\u001b[0m",
      "\u001b[1;32m~\\AppData\\Local\\Temp/ipykernel_10264/840389766.py\u001b[0m in \u001b[0;36mfilling_atribute\u001b[1;34m(target_name1, target_name2, model, train2)\u001b[0m\n\u001b[0;32m      3\u001b[0m \u001b[1;33m\u001b[0m\u001b[0m\n\u001b[0;32m      4\u001b[0m     \u001b[1;31m#tmp_test = train2[train2['nan'] == 1]\u001b[0m\u001b[1;33m\u001b[0m\u001b[1;33m\u001b[0m\u001b[0m\n\u001b[1;32m----> 5\u001b[1;33m     \u001b[0mtmp_train\u001b[0m \u001b[1;33m=\u001b[0m \u001b[0mtrain2\u001b[0m\u001b[1;33m[\u001b[0m\u001b[0mtrain2\u001b[0m\u001b[1;33m[\u001b[0m\u001b[1;34m'nan'\u001b[0m\u001b[1;33m]\u001b[0m \u001b[1;33m==\u001b[0m \u001b[1;36m0\u001b[0m\u001b[1;33m]\u001b[0m\u001b[1;33m\u001b[0m\u001b[1;33m\u001b[0m\u001b[0m\n\u001b[0m\u001b[0;32m      6\u001b[0m \u001b[1;33m\u001b[0m\u001b[0m\n\u001b[0;32m      7\u001b[0m     \u001b[0mtmp_train\u001b[0m\u001b[1;33m[\u001b[0m\u001b[0mtarget_name1\u001b[0m\u001b[1;33m]\u001b[0m \u001b[1;33m=\u001b[0m \u001b[0mtmp_train\u001b[0m\u001b[1;33m[\u001b[0m\u001b[0mtarget_name1\u001b[0m\u001b[1;33m]\u001b[0m\u001b[1;33m.\u001b[0m\u001b[0mapply\u001b[0m\u001b[1;33m(\u001b[0m\u001b[0mint\u001b[0m\u001b[1;33m)\u001b[0m\u001b[1;33m\u001b[0m\u001b[1;33m\u001b[0m\u001b[0m\n",
      "\u001b[1;32mC:\\ProgramData\\Anaconda3\\lib\\site-packages\\pandas\\core\\frame.py\u001b[0m in \u001b[0;36m__getitem__\u001b[1;34m(self, key)\u001b[0m\n\u001b[0;32m   3456\u001b[0m             \u001b[1;32mif\u001b[0m \u001b[0mself\u001b[0m\u001b[1;33m.\u001b[0m\u001b[0mcolumns\u001b[0m\u001b[1;33m.\u001b[0m\u001b[0mnlevels\u001b[0m \u001b[1;33m>\u001b[0m \u001b[1;36m1\u001b[0m\u001b[1;33m:\u001b[0m\u001b[1;33m\u001b[0m\u001b[1;33m\u001b[0m\u001b[0m\n\u001b[0;32m   3457\u001b[0m                 \u001b[1;32mreturn\u001b[0m \u001b[0mself\u001b[0m\u001b[1;33m.\u001b[0m\u001b[0m_getitem_multilevel\u001b[0m\u001b[1;33m(\u001b[0m\u001b[0mkey\u001b[0m\u001b[1;33m)\u001b[0m\u001b[1;33m\u001b[0m\u001b[1;33m\u001b[0m\u001b[0m\n\u001b[1;32m-> 3458\u001b[1;33m             \u001b[0mindexer\u001b[0m \u001b[1;33m=\u001b[0m \u001b[0mself\u001b[0m\u001b[1;33m.\u001b[0m\u001b[0mcolumns\u001b[0m\u001b[1;33m.\u001b[0m\u001b[0mget_loc\u001b[0m\u001b[1;33m(\u001b[0m\u001b[0mkey\u001b[0m\u001b[1;33m)\u001b[0m\u001b[1;33m\u001b[0m\u001b[1;33m\u001b[0m\u001b[0m\n\u001b[0m\u001b[0;32m   3459\u001b[0m             \u001b[1;32mif\u001b[0m \u001b[0mis_integer\u001b[0m\u001b[1;33m(\u001b[0m\u001b[0mindexer\u001b[0m\u001b[1;33m)\u001b[0m\u001b[1;33m:\u001b[0m\u001b[1;33m\u001b[0m\u001b[1;33m\u001b[0m\u001b[0m\n\u001b[0;32m   3460\u001b[0m                 \u001b[0mindexer\u001b[0m \u001b[1;33m=\u001b[0m \u001b[1;33m[\u001b[0m\u001b[0mindexer\u001b[0m\u001b[1;33m]\u001b[0m\u001b[1;33m\u001b[0m\u001b[1;33m\u001b[0m\u001b[0m\n",
      "\u001b[1;32mC:\\ProgramData\\Anaconda3\\lib\\site-packages\\pandas\\core\\indexes\\base.py\u001b[0m in \u001b[0;36mget_loc\u001b[1;34m(self, key, method, tolerance)\u001b[0m\n\u001b[0;32m   3361\u001b[0m                 \u001b[1;32mreturn\u001b[0m \u001b[0mself\u001b[0m\u001b[1;33m.\u001b[0m\u001b[0m_engine\u001b[0m\u001b[1;33m.\u001b[0m\u001b[0mget_loc\u001b[0m\u001b[1;33m(\u001b[0m\u001b[0mcasted_key\u001b[0m\u001b[1;33m)\u001b[0m\u001b[1;33m\u001b[0m\u001b[1;33m\u001b[0m\u001b[0m\n\u001b[0;32m   3362\u001b[0m             \u001b[1;32mexcept\u001b[0m \u001b[0mKeyError\u001b[0m \u001b[1;32mas\u001b[0m \u001b[0merr\u001b[0m\u001b[1;33m:\u001b[0m\u001b[1;33m\u001b[0m\u001b[1;33m\u001b[0m\u001b[0m\n\u001b[1;32m-> 3363\u001b[1;33m                 \u001b[1;32mraise\u001b[0m \u001b[0mKeyError\u001b[0m\u001b[1;33m(\u001b[0m\u001b[0mkey\u001b[0m\u001b[1;33m)\u001b[0m \u001b[1;32mfrom\u001b[0m \u001b[0merr\u001b[0m\u001b[1;33m\u001b[0m\u001b[1;33m\u001b[0m\u001b[0m\n\u001b[0m\u001b[0;32m   3364\u001b[0m \u001b[1;33m\u001b[0m\u001b[0m\n\u001b[0;32m   3365\u001b[0m         \u001b[1;32mif\u001b[0m \u001b[0mis_scalar\u001b[0m\u001b[1;33m(\u001b[0m\u001b[0mkey\u001b[0m\u001b[1;33m)\u001b[0m \u001b[1;32mand\u001b[0m \u001b[0misna\u001b[0m\u001b[1;33m(\u001b[0m\u001b[0mkey\u001b[0m\u001b[1;33m)\u001b[0m \u001b[1;32mand\u001b[0m \u001b[1;32mnot\u001b[0m \u001b[0mself\u001b[0m\u001b[1;33m.\u001b[0m\u001b[0mhasnans\u001b[0m\u001b[1;33m:\u001b[0m\u001b[1;33m\u001b[0m\u001b[1;33m\u001b[0m\u001b[0m\n",
      "\u001b[1;31mKeyError\u001b[0m: 'nan'"
     ]
    }
   ],
   "source": [
    "filling_atribute(target_name_h, target_name_ls, rf_model, test_df)"
   ]
  },
  {
   "cell_type": "code",
   "execution_count": 187,
   "id": "51bbf8d8",
   "metadata": {},
   "outputs": [
    {
     "data": {
      "text/plain": [
       "'Healthcare_1'"
      ]
     },
     "execution_count": 187,
     "metadata": {},
     "output_type": "execute_result"
    }
   ],
   "source": [
    "target_name_h"
   ]
  },
  {
   "cell_type": "code",
   "execution_count": 188,
   "id": "9db68918",
   "metadata": {},
   "outputs": [
    {
     "data": {
      "text/plain": [
       "'LifeSquare'"
      ]
     },
     "execution_count": 188,
     "metadata": {},
     "output_type": "execute_result"
    }
   ],
   "source": [
    "target_name_ls"
   ]
  },
  {
   "cell_type": "code",
   "execution_count": null,
   "id": "e3add27e",
   "metadata": {},
   "outputs": [],
   "source": []
  },
  {
   "cell_type": "code",
   "execution_count": null,
   "id": "d3ef7fce",
   "metadata": {},
   "outputs": [],
   "source": []
  },
  {
   "cell_type": "code",
   "execution_count": null,
   "id": "e41b2ed0",
   "metadata": {},
   "outputs": [],
   "source": []
  },
  {
   "cell_type": "code",
   "execution_count": null,
   "id": "0ac97026",
   "metadata": {},
   "outputs": [],
   "source": []
  },
  {
   "cell_type": "code",
   "execution_count": null,
   "id": "8e5d0f9b",
   "metadata": {},
   "outputs": [],
   "source": []
  },
  {
   "cell_type": "code",
   "execution_count": null,
   "id": "23564b0d",
   "metadata": {},
   "outputs": [],
   "source": []
  },
  {
   "cell_type": "code",
   "execution_count": null,
   "id": "48f6407c",
   "metadata": {},
   "outputs": [],
   "source": []
  },
  {
   "cell_type": "code",
   "execution_count": null,
   "id": "985c8a45",
   "metadata": {},
   "outputs": [],
   "source": []
  },
  {
   "cell_type": "code",
   "execution_count": null,
   "id": "30dd1ce9",
   "metadata": {},
   "outputs": [],
   "source": []
  }
 ],
 "metadata": {
  "kernelspec": {
   "display_name": "Python 3 (ipykernel)",
   "language": "python",
   "name": "python3"
  },
  "language_info": {
   "codemirror_mode": {
    "name": "ipython",
    "version": 3
   },
   "file_extension": ".py",
   "mimetype": "text/x-python",
   "name": "python",
   "nbconvert_exporter": "python",
   "pygments_lexer": "ipython3",
   "version": "3.9.7"
  }
 },
 "nbformat": 4,
 "nbformat_minor": 5
}
